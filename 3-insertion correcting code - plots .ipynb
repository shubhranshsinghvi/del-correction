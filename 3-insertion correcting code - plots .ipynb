{
 "cells": [
  {
   "cell_type": "code",
   "execution_count": 2,
   "metadata": {
    "id": "RkjTwaL0z551"
   },
   "outputs": [],
   "source": [
    "import numpy as np\n",
    "import math \n",
    "from sympy import *\n",
    "from sympy.abc import x,y,X,Y\n",
    "import random\n",
    "import sys\n",
    "import pandas as pd\n",
    "import pickle\n",
    "import plotly.express as px\n",
    "# %load_ext memory_profiler\n",
    "from sympy import Symbol \n",
    "from sympy import MatrixSymbol, Matrix\n",
    "from collections import deque\n",
    "PRECISION = 6\n",
    "from multiprocessing import Pool\n",
    "from functools import partial\n",
    "import tqdm\n",
    "import time\n",
    "import json\n",
    "from matplotlib import pyplot as plt"
   ]
  },
  {
   "cell_type": "code",
   "execution_count": 2,
   "metadata": {},
   "outputs": [],
   "source": [
    "def delta(r,s):\n",
    "    if (r>s and s>=0):\n",
    "        temp = 0 \n",
    "        for i in range(s+1):\n",
    "            temp += choose(r-s,i)\n",
    "        return temp \n",
    "    elif (s == r and s>=0):\n",
    "        return 1 \n",
    "    else:\n",
    "        return 0 \n",
    "    \n",
    "def U(s,n):\n",
    "    temp =0 \n",
    "    for r in range(3,n-s+1):\n",
    "        tmp=0\n",
    "        for i in range(s+r-(n-s)-1,min(s-2,r-3)+1):\n",
    "            tmp+=delta(r-2,i)\n",
    "        temp+= (2*choose(n-s-1,r-1))/(delta(r,s)+tmp)\n",
    "    return temp"
   ]
  },
  {
   "cell_type": "code",
   "execution_count": 3,
   "metadata": {
    "id": "DYVkn8xqz554"
   },
   "outputs": [],
   "source": [
    "def bin_dec(s):\n",
    "    d = 0 \n",
    "    for i in range(len(s)):\n",
    "        d += int(s[i])*(2**(len(s)-i-1))\n",
    "    return d \n",
    "\n",
    "def bin_space_gen(d):\n",
    "    all_coeff = {}\n",
    "    for i in range(0,2**(d)): \n",
    "        t = i\n",
    "        all_coeff[i] = \"\"\n",
    "        for j in range (0,d):\n",
    "            all_coeff[i]= str(t%2)+all_coeff[i]\n",
    "            t = int(t/2)\n",
    "    return all_coeff\n",
    "\n",
    "def valid(vect,COUNT):\n",
    "    cnt = 0\n",
    "    for i in range(0,len(vect)):\n",
    "        if vect[i] == \"1\":\n",
    "            cnt+=1\n",
    "    if(cnt == COUNT) :\n",
    "        return 1 \n",
    "    else :\n",
    "        return 0\n",
    "    \n",
    "def count(a, b):\n",
    "    m = len(a)\n",
    "    n = len(b)\n",
    " \n",
    "    lookup = [[0] * (n + 1) for i in range(m + 1)]\n",
    " \n",
    "    # If first string is empty\n",
    "    for i in range(n+1):\n",
    "        lookup[0][i] = 0\n",
    " \n",
    "    # If second string is empty\n",
    "    for i in range(m + 1):\n",
    "        lookup[i][0] = 1\n",
    " \n",
    "    # Fill lookup[][] in bottom up manner\n",
    "    for i in range(1, m + 1):\n",
    "        for j in range(1, n + 1):\n",
    "            if a[i - 1] == b[j - 1]:\n",
    "                lookup[i][j] = lookup[i - 1][j - 1] + lookup[i - 1][j]     \n",
    "            else:\n",
    "                # If last character are different, ignore last character of first string\n",
    "                lookup[i][j] = lookup[i - 1][j]\n",
    " \n",
    "    return lookup[m][n]\n",
    "\n",
    "def size_ins_ball(n_temp,m_temp):\n",
    "    temp = 0\n",
    "    for r in range(m_temp,n_temp+1):\n",
    "        temp += math.comb(n_temp,r)\n",
    "    return temp"
   ]
  },
  {
   "cell_type": "code",
   "execution_count": 4,
   "metadata": {
    "id": "DUTz0OKB0jUt"
   },
   "outputs": [],
   "source": [
    "def choose(n, k):\n",
    "    \"\"\"\n",
    "    A fast way to calculate binomial coefficients by Andrew Dalke (contrib).\n",
    "    \"\"\"\n",
    "    if 0 <= k <= n:\n",
    "        ntok = 1\n",
    "        ktok = 1\n",
    "        for t in range(1, min(k, n - k) + 1):\n",
    "            ntok *= n\n",
    "            ktok *= t\n",
    "            n -= 1\n",
    "        return ntok // ktok\n",
    "    else:\n",
    "        return 0"
   ]
  },
  {
   "cell_type": "code",
   "execution_count": 5,
   "metadata": {
    "id": "IPlTb6g9z556"
   },
   "outputs": [],
   "source": [
    "def add_node(nodes,parent_stack,s,n_temp, m_temp, parent):\n",
    "    # print(s,n_temp, m_temp, parent)\n",
    "    # print(nodes)\n",
    "    # print(parent_stack)\n",
    "    if(n_temp>0 and n_temp!=m_temp and m_temp>0):\n",
    "        if(s==\"l\"):\n",
    "            if(m_temp-1>=0): \n",
    "                parent_stack.append(len(parent_stack))\n",
    "                nodes.append((len(nodes),n_temp,m_temp,parent,s))\n",
    "                temp = nodes[len(nodes)-1][0]\n",
    "                add_node(nodes,parent_stack,\"l\",n_temp-1, m_temp-1, temp)\n",
    "                add_node(nodes,parent_stack,\"r\",n_temp-1, m_temp,temp)\n",
    "                \n",
    "        elif(s==\"r\"):\n",
    "            parent_stack.append(len(parent_stack))\n",
    "            nodes.append((len(nodes),n_temp,m_temp,parent,s))\n",
    "            temp = nodes[len(nodes)-1][0]\n",
    "            add_node(nodes,parent_stack,\"l\",n_temp-1, m_temp-1, temp)\n",
    "            add_node(nodes,parent_stack,\"r\",n_temp-1, m_temp, temp)\n",
    "        parent_stack.pop()\n",
    "        \n",
    "    elif(n_temp==m_temp or m_temp==0):\n",
    "        nodes.append((len(nodes),n_temp,m_temp,parent,s))"
   ]
  },
  {
   "cell_type": "code",
   "execution_count": 6,
   "metadata": {
    "id": "7uzjspx30kp_"
   },
   "outputs": [],
   "source": [
    "def list_to_str(lst):\n",
    "    strn =\"\"\n",
    "    for i in range(len(lst)):\n",
    "        strn = strn+str(lst[i])\n",
    "    return strn\n",
    "\n",
    "def wlogw(wt):\n",
    "    return wt*math.log(wt,2)"
   ]
  },
  {
   "cell_type": "code",
   "execution_count": 7,
   "metadata": {},
   "outputs": [],
   "source": [
    "def read_sym(temp):\n",
    "    i = 0 \n",
    "    tmp = str(temp)\n",
    "    while tmp[i] != \"[\":\n",
    "        i+=1 \n",
    "    stp1 = i\n",
    "    while tmp[i] != \",\":\n",
    "        i+=1 \n",
    "    stp2 = i\n",
    "    return  (int(tmp[stp1+1:stp2]), int(tmp[stp2+2:stp2+3]))\n",
    "\n",
    "def ins_ball_eval_fun(sub_arr,card_Y,ins_ball_list,X,s):\n",
    "    ins_ball_eval = {}\n",
    "    sub_seq = sub_arr[s]\n",
    "    for i in range(card_Y):\n",
    "        ins_ball_eval[i] = []\n",
    "        for j in range(len(ins_ball_list[i])):\n",
    "            temp = ins_ball_list[i][j]\n",
    "            if(type(temp)!= str):\n",
    "                ind = read_sym(temp)\n",
    "                if(ind[1] == 0):\n",
    "                    temp = temp.subs(X[ind[0],0],sub_seq[ind[0]-1])\n",
    "                elif(ind[1] == 1):    \n",
    "                    temp = temp.subs(X[ind[0],1],(int(sub_seq[ind[0]-1])+1)%2)\n",
    "            ins_ball_eval[i].append(int(temp))\n",
    "    return ins_ball_eval"
   ]
  },
  {
   "cell_type": "code",
   "execution_count": 8,
   "metadata": {},
   "outputs": [],
   "source": [
    "def greedy_code(n,m):\n",
    "    sup_arr = bin_space_gen(n)\n",
    "    sub_arr = bin_space_gen(m)\n",
    "    \n",
    "    X = MatrixSymbol('X', m+1, 2)\n",
    "    \n",
    "    card_Y = 0\n",
    "    for i in range(0,n-m+1):\n",
    "        card_Y += choose(n-1-i,m-1)*(2**(i))\n",
    "        \n",
    "    cnt = 0 \n",
    "    nodes = deque([(0,n,m,-1,\"root\")])\n",
    "    parent_stack = deque([0])\n",
    "    n_temp = n\n",
    "    m_temp = m\n",
    "    parent = 0\n",
    "    while parent_stack:\n",
    "        add_node(nodes,parent_stack,\"l\",n_temp-1, m_temp-1, parent)\n",
    "        add_node(nodes,parent_stack,\"r\",n_temp-1, m_temp, parent)\n",
    "        parent_stack.popleft()\n",
    "        \n",
    "    ins_ball = [[]]\n",
    "    cnt = 1 \n",
    "    while cnt <len(nodes):\n",
    "        temp = nodes[cnt]\n",
    "        parent = temp[3]\n",
    "        if(temp[4]==\"l\"):\n",
    "            ins_ball.append(ins_ball[parent]+[X[m-(nodes[parent][2])+1,0]])\n",
    "        elif(temp[4]==\"r\"):\n",
    "            ins_ball.append(ins_ball[parent]+[X[m-(nodes[parent][2])+1,1]])\n",
    "        cnt+=1\n",
    "        \n",
    "    ins_ball_list = []\n",
    "    cnt = 0\n",
    "    while cnt<len(nodes):\n",
    "        temp = nodes[cnt]\n",
    "        n_temp = temp[1]\n",
    "        m_temp = temp[2]\n",
    "        if(m_temp==0):\n",
    "            bin_arr = bin_space_gen(n_temp)\n",
    "            for i in range(len(bin_arr)):\n",
    "                ins_ball_list.append(ins_ball[cnt]+list(bin_arr[i]))\n",
    "        elif(n_temp==m_temp):\n",
    "            temp = []\n",
    "            for i in range(m_temp):\n",
    "                temp.append(X[m-m_temp+1+i,0])\n",
    "            ins_ball_list.append(ins_ball[cnt]+temp)\n",
    "        cnt+=1 \n",
    "\n",
    "    func = partial(ins_ball_eval_fun,sub_arr,card_Y,ins_ball_list, X)\n",
    "    if __name__ == '__main__':\n",
    "        with Pool(7) as p:\n",
    "            ins_ball_eval = list(tqdm.tqdm(p.imap(func, list(range(len(sub_arr)))),total = len(sub_arr)))\n",
    "\n",
    "    ent = []\n",
    "    ins = {}\n",
    "    for s in range(0,int(len(sub_arr))):\n",
    "        ins[s] = []\n",
    "        temp = 0 \n",
    "        for i in range(card_Y):\n",
    "            temp += wlogw(count(list_to_str(ins_ball_eval[s][i]),sub_arr[s]))\n",
    "            ins[s].append(list_to_str(ins_ball_eval[s][i]))\n",
    "        ent.append((sub_arr[s],round(temp,PRECISION)))\n",
    "    ent_sort = sorted(ent, key=lambda x: x[1])\n",
    "    \n",
    "    mark = np.zeros((len(ent_sort),1))\n",
    "    C = []\n",
    "    for i in range(len(ent_sort)-1,-1,-1):\n",
    "        if mark[bin_dec(ent_sort[i][0])] == 0:\n",
    "            mark[bin_dec(ent_sort[i][0])] = 1\n",
    "            C.append(ent_sort[i])\n",
    "            temp_list = ins[bin_dec(ent_sort[i][0])]\n",
    "            for j in range(card_Y):\n",
    "                temp = temp_list[j]\n",
    "                for s in range(int(len(sub_arr))):\n",
    "                    if(mark[s]==0):\n",
    "                        if temp in ins[s]:\n",
    "                            mark[s] =1 \n",
    "    return C"
   ]
  },
  {
   "cell_type": "code",
   "execution_count": 3,
   "metadata": {},
   "outputs": [
    {
     "ename": "FileNotFoundError",
     "evalue": "[Errno 2] No such file or directory: 'code3'",
     "output_type": "error",
     "traceback": [
      "\u001b[0;31m---------------------------------------------------------------------------\u001b[0m",
      "\u001b[0;31mFileNotFoundError\u001b[0m                         Traceback (most recent call last)",
      "Input \u001b[0;32mIn [3]\u001b[0m, in \u001b[0;36m<cell line: 2>\u001b[0;34m()\u001b[0m\n\u001b[1;32m      1\u001b[0m \u001b[38;5;66;03m# C = {}\u001b[39;00m\n\u001b[0;32m----> 2\u001b[0m C \u001b[38;5;241m=\u001b[39m \u001b[43mpd\u001b[49m\u001b[38;5;241;43m.\u001b[39;49m\u001b[43mread_pickle\u001b[49m\u001b[43m(\u001b[49m\u001b[38;5;124;43m\"\u001b[39;49m\u001b[38;5;124;43mcode3\u001b[39;49m\u001b[38;5;124;43m\"\u001b[39;49m\u001b[43m)\u001b[49m\n",
      "File \u001b[0;32m~/.local/lib/python3.10/site-packages/pandas/io/pickle.py:187\u001b[0m, in \u001b[0;36mread_pickle\u001b[0;34m(filepath_or_buffer, compression, storage_options)\u001b[0m\n\u001b[1;32m    124\u001b[0m \u001b[38;5;124;03m\"\"\"\u001b[39;00m\n\u001b[1;32m    125\u001b[0m \u001b[38;5;124;03mLoad pickled pandas object (or any object) from file.\u001b[39;00m\n\u001b[1;32m    126\u001b[0m \n\u001b[0;32m   (...)\u001b[0m\n\u001b[1;32m    184\u001b[0m \u001b[38;5;124;03m4    4    9\u001b[39;00m\n\u001b[1;32m    185\u001b[0m \u001b[38;5;124;03m\"\"\"\u001b[39;00m  \u001b[38;5;66;03m# noqa: E501\u001b[39;00m\n\u001b[1;32m    186\u001b[0m excs_to_catch \u001b[38;5;241m=\u001b[39m (\u001b[38;5;167;01mAttributeError\u001b[39;00m, \u001b[38;5;167;01mImportError\u001b[39;00m, \u001b[38;5;167;01mModuleNotFoundError\u001b[39;00m, \u001b[38;5;167;01mTypeError\u001b[39;00m)\n\u001b[0;32m--> 187\u001b[0m \u001b[38;5;28;01mwith\u001b[39;00m \u001b[43mget_handle\u001b[49m\u001b[43m(\u001b[49m\n\u001b[1;32m    188\u001b[0m \u001b[43m    \u001b[49m\u001b[43mfilepath_or_buffer\u001b[49m\u001b[43m,\u001b[49m\n\u001b[1;32m    189\u001b[0m \u001b[43m    \u001b[49m\u001b[38;5;124;43m\"\u001b[39;49m\u001b[38;5;124;43mrb\u001b[39;49m\u001b[38;5;124;43m\"\u001b[39;49m\u001b[43m,\u001b[49m\n\u001b[1;32m    190\u001b[0m \u001b[43m    \u001b[49m\u001b[43mcompression\u001b[49m\u001b[38;5;241;43m=\u001b[39;49m\u001b[43mcompression\u001b[49m\u001b[43m,\u001b[49m\n\u001b[1;32m    191\u001b[0m \u001b[43m    \u001b[49m\u001b[43mis_text\u001b[49m\u001b[38;5;241;43m=\u001b[39;49m\u001b[38;5;28;43;01mFalse\u001b[39;49;00m\u001b[43m,\u001b[49m\n\u001b[1;32m    192\u001b[0m \u001b[43m    \u001b[49m\u001b[43mstorage_options\u001b[49m\u001b[38;5;241;43m=\u001b[39;49m\u001b[43mstorage_options\u001b[49m\u001b[43m,\u001b[49m\n\u001b[1;32m    193\u001b[0m \u001b[43m\u001b[49m\u001b[43m)\u001b[49m \u001b[38;5;28;01mas\u001b[39;00m handles:\n\u001b[1;32m    194\u001b[0m \n\u001b[1;32m    195\u001b[0m     \u001b[38;5;66;03m# 1) try standard library Pickle\u001b[39;00m\n\u001b[1;32m    196\u001b[0m     \u001b[38;5;66;03m# 2) try pickle_compat (older pandas version) to handle subclass changes\u001b[39;00m\n\u001b[1;32m    197\u001b[0m     \u001b[38;5;66;03m# 3) try pickle_compat with latin-1 encoding upon a UnicodeDecodeError\u001b[39;00m\n\u001b[1;32m    199\u001b[0m     \u001b[38;5;28;01mtry\u001b[39;00m:\n\u001b[1;32m    200\u001b[0m         \u001b[38;5;66;03m# TypeError for Cython complaints about object.__new__ vs Tick.__new__\u001b[39;00m\n\u001b[1;32m    201\u001b[0m         \u001b[38;5;28;01mtry\u001b[39;00m:\n",
      "File \u001b[0;32m~/.local/lib/python3.10/site-packages/pandas/io/common.py:795\u001b[0m, in \u001b[0;36mget_handle\u001b[0;34m(path_or_buf, mode, encoding, compression, memory_map, is_text, errors, storage_options)\u001b[0m\n\u001b[1;32m    786\u001b[0m         handle \u001b[38;5;241m=\u001b[39m \u001b[38;5;28mopen\u001b[39m(\n\u001b[1;32m    787\u001b[0m             handle,\n\u001b[1;32m    788\u001b[0m             ioargs\u001b[38;5;241m.\u001b[39mmode,\n\u001b[0;32m   (...)\u001b[0m\n\u001b[1;32m    791\u001b[0m             newline\u001b[38;5;241m=\u001b[39m\u001b[38;5;124m\"\u001b[39m\u001b[38;5;124m\"\u001b[39m,\n\u001b[1;32m    792\u001b[0m         )\n\u001b[1;32m    793\u001b[0m     \u001b[38;5;28;01melse\u001b[39;00m:\n\u001b[1;32m    794\u001b[0m         \u001b[38;5;66;03m# Binary mode\u001b[39;00m\n\u001b[0;32m--> 795\u001b[0m         handle \u001b[38;5;241m=\u001b[39m \u001b[38;5;28;43mopen\u001b[39;49m\u001b[43m(\u001b[49m\u001b[43mhandle\u001b[49m\u001b[43m,\u001b[49m\u001b[43m \u001b[49m\u001b[43mioargs\u001b[49m\u001b[38;5;241;43m.\u001b[39;49m\u001b[43mmode\u001b[49m\u001b[43m)\u001b[49m\n\u001b[1;32m    796\u001b[0m     handles\u001b[38;5;241m.\u001b[39mappend(handle)\n\u001b[1;32m    798\u001b[0m \u001b[38;5;66;03m# Convert BytesIO or file objects passed with an encoding\u001b[39;00m\n",
      "\u001b[0;31mFileNotFoundError\u001b[0m: [Errno 2] No such file or directory: 'code3'"
     ]
    }
   ],
   "source": [
    "# C = {}\n",
    "C = pd.read_pickle(\"code3\")"
   ]
  },
  {
   "cell_type": "code",
   "execution_count": 10,
   "metadata": {},
   "outputs": [],
   "source": [
    "# k = 3\n",
    "# for i in range(4,12):\n",
    "#     C[i] = greedy_code(i+k,i)"
   ]
  },
  {
   "cell_type": "code",
   "execution_count": 11,
   "metadata": {},
   "outputs": [],
   "source": [
    "k = 2 \n",
    "lenC = []\n",
    "redC = []\n",
    "frac_redC = []\n",
    "th_redC = []\n",
    "frac_th_redC = []\n",
    "for i in range(4,12):\n",
    "    lenC.append(len(C[i]))\n",
    "    redC.append(i-math.log(len(C[i]),2))\n",
    "    th_redC.append(2*k*math.log(i,2))\n",
    "    \n",
    "    frac_redC.append(1-(math.log(len(C[i]),2)/i))\n",
    "    frac_th_redC.append((2*k*math.log(i,2))/i)"
   ]
  },
  {
   "cell_type": "code",
   "execution_count": 12,
   "metadata": {},
   "outputs": [
    {
     "data": {
      "text/plain": [
       "[0.75,\n",
       " 0.8,\n",
       " 0.6666666666666667,\n",
       " 0.6682959864446625,\n",
       " 0.6490806347427995,\n",
       " 0.6308968783458486,\n",
       " 0.6192645077942396,\n",
       " 0.6006984161110218]"
      ]
     },
     "execution_count": 12,
     "metadata": {},
     "output_type": "execute_result"
    }
   ],
   "source": [
    "frac_redC"
   ]
  },
  {
   "cell_type": "code",
   "execution_count": 13,
   "metadata": {},
   "outputs": [
    {
     "data": {
      "image/png": "[encoded data removed]",
      "text/plain": [
       "<Figure size 432x288 with 1 Axes>"
      ]
     },
     "metadata": {
      "needs_background": "light"
     },
     "output_type": "display_data"
    }
   ],
   "source": [
    "plt.plot(list(range(4,12)),redC,\"*-\")\n",
    "plt.plot(list(range(4,12)),th_redC,\"*-\")\n",
    "plt.legend([\"code\",\"theoretical\"])\n",
    "plt.xlabel(\"length\")\n",
    "plt.ylabel(\"redundancy\")\n",
    "plt.xlim(2,16)\n",
    "plt.ylim(2,16)\n",
    "# plt.rcParams['figure.figsize'] = [7,7]\n",
    "plt.show()"
   ]
  },
  {
   "cell_type": "code",
   "execution_count": 14,
   "metadata": {},
   "outputs": [
    {
     "data": {
      "image/png": "[encoded data removed]",
      "text/plain": [
       "<Figure size 432x288 with 1 Axes>"
      ]
     },
     "metadata": {
      "needs_background": "light"
     },
     "output_type": "display_data"
    }
   ],
   "source": [
    "plt.plot(list(range(4,12)),frac_redC,\"*-\")\n",
    "plt.plot(list(range(4,12)),frac_th_redC,\"*-\")\n",
    "plt.legend([\"code\",\"theoretical\"])\n",
    "plt.xlabel(\"length\")\n",
    "plt.ylabel(\"frac_redundancy\")\n",
    "plt.xlim(0,16)\n",
    "plt.ylim(0,3)\n",
    "# plt.rcParams['figure.figsize'] = [7,7]\n",
    "plt.show()"
   ]
  },
  {
   "cell_type": "code",
   "execution_count": null,
   "metadata": {},
   "outputs": [],
   "source": [
    "# code3 = open(\"code3\", \"wb\")\n",
    "# pickle.dump(C,code3)\n",
    "# code3.close()"
   ]
  },
  {
   "cell_type": "code",
   "execution_count": 17,
   "metadata": {},
   "outputs": [],
   "source": [
    "# code3 = pd.read_pickle(\"code3\")"
   ]
  },
  {
   "cell_type": "code",
   "execution_count": null,
   "metadata": {},
   "outputs": [],
   "source": []
  },
  {
   "cell_type": "code",
   "execution_count": null,
   "metadata": {},
   "outputs": [],
   "source": [
    "2**(m-(n-m)*math.log(m,2))"
   ]
  },
  {
   "cell_type": "code",
   "execution_count": null,
   "metadata": {},
   "outputs": [],
   "source": [
    "# Single deletion: VT code, upper bound - kullkarni \n",
    "len(C), (2**(m))/((m)+1), ((2**(m))-2)/((m)-1)"
   ]
  },
  {
   "cell_type": "code",
   "execution_count": null,
   "metadata": {},
   "outputs": [],
   "source": [
    "def comp(s):\n",
    "    cs = \"\"\n",
    "    for i in range(len(s)):\n",
    "        cs += str((int(s[i])+1)%2)\n",
    "    return cs \n",
    "\n",
    "def ins_list(sub_seq):\n",
    "    ins = {}\n",
    "    ins2 = []\n",
    "    \n",
    "    for i in range(card_Y):\n",
    "        ins[i] = []\n",
    "        \n",
    "        for j in range(len(ins_ball_list[i])):\n",
    "            temp = ins_ball_list[i][j]\n",
    "            for k in range(1,m+1):\n",
    "                if(type(temp)!= str):\n",
    "                    temp = temp.subs(X[k,0],sub_seq[k-1])\n",
    "                    temp = temp.subs(X[k,1],(int(sub_seq[k-1])+1)%2)\n",
    "            ins[i].append(int(temp))\n",
    "\n",
    "        ins2.append(list_to_str(ins[i]))\n",
    "    return ins2        \n",
    "            \n",
    "def is_valid_code(code):   \n",
    "\n",
    "    for i in range(len(code)):\n",
    "        c1 = code[i]\n",
    "        print(c1)\n",
    "        temp_list1 = ins_list(c1[0])\n",
    "        for j in range(i+1,len(code)):\n",
    "            c2 = code[j]\n",
    "            temp_list2 = ins_list(c2[0])\n",
    "            for k in range(card_Y):\n",
    "                temp = temp_list2[k]\n",
    "                if temp in temp_list1:\n",
    "                    print(c1,c2, \"NOT VALID\")\n",
    "                    return "
   ]
  },
  {
   "cell_type": "code",
   "execution_count": null,
   "metadata": {},
   "outputs": [],
   "source": [
    "is_valid_code(C)"
   ]
  },
  {
   "cell_type": "code",
   "execution_count": null,
   "metadata": {},
   "outputs": [],
   "source": []
  }
 ],
 "metadata": {
  "celltoolbar": "Raw Cell Format",
  "colab": {
   "name": "Copy of Characterizing Uncertainty Set - desired ordering.ipynb",
   "provenance": []
  },
  "kernelspec": {
   "display_name": "Python 3 (ipykernel)",
   "language": "python",
   "name": "python3"
  },
  "language_info": {
   "codemirror_mode": {
    "name": "ipython",
    "version": 3
   },
   "file_extension": ".py",
   "mimetype": "text/x-python",
   "name": "python",
   "nbconvert_exporter": "python",
   "pygments_lexer": "ipython3",
   "version": "3.10.4"
  }
 },
 "nbformat": 4,
 "nbformat_minor": 1
}
