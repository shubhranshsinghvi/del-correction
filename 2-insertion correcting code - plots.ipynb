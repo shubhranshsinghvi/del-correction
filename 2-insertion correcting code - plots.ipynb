{
 "cells": [
  {
   "cell_type": "code",
   "execution_count": 1,
   "metadata": {
    "id": "RkjTwaL0z551"
   },
   "outputs": [],
   "source": [
    "import numpy as np\n",
    "import math \n",
    "from sympy import *\n",
    "from sympy.abc import x,y,X,Y\n",
    "import random\n",
    "import operator\n",
    "import sys\n",
    "import pandas as pd\n",
    "import pickle\n",
    "import plotly.express as px\n",
    "# %load_ext memory_profiler\n",
    "from sympy import Symbol \n",
    "from sympy import MatrixSymbol, Matrix\n",
    "from collections import deque\n",
    "PRECISION = 6\n",
    "from multiprocessing import Pool\n",
    "from functools import partial\n",
    "import tqdm\n",
    "import time\n",
    "import string\n",
    "import json\n",
    "from matplotlib import pyplot as plt"
   ]
  },
  {
   "cell_type": "code",
   "execution_count": 2,
   "metadata": {
    "id": "DYVkn8xqz554"
   },
   "outputs": [],
   "source": [
    "def bin_dec(s):\n",
    "    d = 0 \n",
    "    for i in range(len(s)):\n",
    "        d += int(s[i])*(2**(len(s)-i-1))\n",
    "    return d \n",
    "\n",
    "def kappa(m):\n",
    "    s = \"\"\n",
    "    for i in range(m):\n",
    "        s += str(i%2)\n",
    "    return s \n",
    "\n",
    "def bin_space_gen(d):\n",
    "    all_coeff = {}\n",
    "    for i in range(0,2**(d)): \n",
    "        t = i\n",
    "        all_coeff[i] = \"\"\n",
    "        for j in range (0,d):\n",
    "            all_coeff[i]= str(t%2)+all_coeff[i]\n",
    "            t = int(t/2)\n",
    "    return all_coeff\n",
    "\n",
    "def valid(vect,COUNT):\n",
    "    cnt = 0\n",
    "    for i in range(0,len(vect)):\n",
    "        if vect[i] == \"1\":\n",
    "            cnt+=1\n",
    "    if(cnt == COUNT) :\n",
    "        return 1 \n",
    "    else :\n",
    "        return 0\n",
    "    \n",
    "def count(a, b):\n",
    "    m = len(a)\n",
    "    n = len(b)\n",
    " \n",
    "    lookup = [[0] * (n + 1) for i in range(m + 1)]\n",
    " \n",
    "    # If first string is empty\n",
    "    for i in range(n+1):\n",
    "        lookup[0][i] = 0\n",
    " \n",
    "    # If second string is empty\n",
    "    for i in range(m + 1):\n",
    "        lookup[i][0] = 1\n",
    " \n",
    "    # Fill lookup[][] in bottom up manner\n",
    "    for i in range(1, m + 1):\n",
    "        for j in range(1, n + 1):\n",
    "            if a[i - 1] == b[j - 1]:\n",
    "                lookup[i][j] = lookup[i - 1][j - 1] + lookup[i - 1][j]     \n",
    "            else:\n",
    "                # If last character are different, ignore last character of first string\n",
    "                lookup[i][j] = lookup[i - 1][j]\n",
    " \n",
    "    return lookup[m][n]\n",
    "\n",
    "def size_ins_ball(n_temp,m_temp):\n",
    "    temp = 0\n",
    "    for r in range(m_temp,n_temp+1):\n",
    "        temp += math.comb(n_temp,r)\n",
    "    return temp"
   ]
  },
  {
   "cell_type": "code",
   "execution_count": 3,
   "metadata": {},
   "outputs": [],
   "source": [
    "def edit_dis(str1, str2, m, n):\n",
    "    if m == 0:\n",
    "        return n\n",
    "    if n == 0:\n",
    "        return m\n",
    " \n",
    "    if str1[m-1] == str2[n-1]:\n",
    "        return edit_dis(str1, str2, m-1, n-1)\n",
    " \n",
    "\n",
    "    return 1 + min(edit_dis(str1, str2, m, n-1),    # Insert\n",
    "                   edit_dis(str1, str2, m-1, n),    # Remove\n",
    "                   edit_dis(str1, str2, m-1, n-1)    # Replace\n",
    "                  )"
   ]
  },
  {
   "cell_type": "code",
   "execution_count": 4,
   "metadata": {
    "id": "DUTz0OKB0jUt"
   },
   "outputs": [],
   "source": [
    "def choose(n, k):\n",
    "    \"\"\"\n",
    "    A fast way to calculate binomial coefficients by Andrew Dalke (contrib).\n",
    "    \"\"\"\n",
    "    if 0 <= k <= n:\n",
    "        ntok = 1\n",
    "        ktok = 1\n",
    "        for t in range(1, min(k, n - k) + 1):\n",
    "            ntok *= n\n",
    "            ktok *= t\n",
    "            n -= 1\n",
    "        return ntok // ktok\n",
    "    else:\n",
    "        return 0"
   ]
  },
  {
   "cell_type": "code",
   "execution_count": 5,
   "metadata": {
    "id": "IPlTb6g9z556"
   },
   "outputs": [],
   "source": [
    "def add_node(nodes,parent_stack,s,n_temp, m_temp, parent):\n",
    "    # print(s,n_temp, m_temp, parent)\n",
    "    # print(nodes)\n",
    "    # print(parent_stack)\n",
    "    if(n_temp>0 and n_temp!=m_temp and m_temp>0):\n",
    "        if(s==\"l\"):\n",
    "            if(m_temp-1>=0): \n",
    "                parent_stack.append(len(parent_stack))\n",
    "                nodes.append((len(nodes),n_temp,m_temp,parent,s))\n",
    "                temp = nodes[len(nodes)-1][0]\n",
    "                add_node(nodes,parent_stack,\"l\",n_temp-1, m_temp-1, temp)\n",
    "                add_node(nodes,parent_stack,\"r\",n_temp-1, m_temp,temp)\n",
    "                \n",
    "        elif(s==\"r\"):\n",
    "            parent_stack.append(len(parent_stack))\n",
    "            nodes.append((len(nodes),n_temp,m_temp,parent,s))\n",
    "            temp = nodes[len(nodes)-1][0]\n",
    "            add_node(nodes,parent_stack,\"l\",n_temp-1, m_temp-1, temp)\n",
    "            add_node(nodes,parent_stack,\"r\",n_temp-1, m_temp, temp)\n",
    "        parent_stack.pop()\n",
    "        \n",
    "    elif(n_temp==m_temp or m_temp==0):\n",
    "        nodes.append((len(nodes),n_temp,m_temp,parent,s))"
   ]
  },
  {
   "cell_type": "code",
   "execution_count": 6,
   "metadata": {
    "id": "7uzjspx30kp_"
   },
   "outputs": [],
   "source": [
    "def list_to_str(lst):\n",
    "    strn =\"\"\n",
    "    for i in range(len(lst)):\n",
    "        strn = strn+str(lst[i])\n",
    "    return strn\n",
    "\n",
    "def wlogw(wt):\n",
    "    return wt*math.log(wt,2)"
   ]
  },
  {
   "cell_type": "code",
   "execution_count": 7,
   "metadata": {},
   "outputs": [],
   "source": [
    "def read_sym(temp):\n",
    "    i = 0 \n",
    "    tmp = str(temp)\n",
    "    while tmp[i] != \"[\":\n",
    "        i+=1 \n",
    "    stp1 = i\n",
    "    while tmp[i] != \",\":\n",
    "        i+=1 \n",
    "    stp2 = i\n",
    "    return  (int(tmp[stp1+1:stp2]), int(tmp[stp2+2:stp2+3]))\n",
    "\n",
    "def ins_ball_eval_fun(sub_arr,card_Y,ins_ball_list,X,s):\n",
    "    ins_ball_eval = {}\n",
    "    sub_seq = sub_arr[s]\n",
    "    for i in range(card_Y):\n",
    "        ins_ball_eval[i] = []\n",
    "        for j in range(len(ins_ball_list[i])):\n",
    "            temp = ins_ball_list[i][j]\n",
    "            if(type(temp)!= str):\n",
    "                ind = read_sym(temp)\n",
    "                if(ind[1] == 0):\n",
    "                    temp = temp.subs(X[ind[0],0],sub_seq[ind[0]-1])\n",
    "                elif(ind[1] == 1):    \n",
    "                    temp = temp.subs(X[ind[0],1],(int(sub_seq[ind[0]-1])+1)%2)\n",
    "            ins_ball_eval[i].append(int(temp))\n",
    "    return ins_ball_eval"
   ]
  },
  {
   "cell_type": "code",
   "execution_count": 8,
   "metadata": {},
   "outputs": [],
   "source": [
    "def greedy_code(n,m):\n",
    "    sup_arr = bin_space_gen(n)\n",
    "    sub_arr = bin_space_gen(m)\n",
    "    \n",
    "    X = MatrixSymbol('X', m+1, 2)\n",
    "    \n",
    "    card_Y = 0\n",
    "    for i in range(0,n-m+1):\n",
    "        card_Y += choose(n-1-i,m-1)*(2**(i))\n",
    "        \n",
    "    cnt = 0 \n",
    "    nodes = deque([(0,n,m,-1,\"root\")])\n",
    "    parent_stack = deque([0])\n",
    "    n_temp = n\n",
    "    m_temp = m\n",
    "    parent = 0\n",
    "    while parent_stack:\n",
    "        add_node(nodes,parent_stack,\"l\",n_temp-1, m_temp-1, parent)\n",
    "        add_node(nodes,parent_stack,\"r\",n_temp-1, m_temp, parent)\n",
    "        parent_stack.popleft()\n",
    "        \n",
    "    ins_ball = [[]]\n",
    "    cnt = 1 \n",
    "    while cnt <len(nodes):\n",
    "        temp = nodes[cnt]\n",
    "        parent = temp[3]\n",
    "        if(temp[4]==\"l\"):\n",
    "            ins_ball.append(ins_ball[parent]+[X[m-(nodes[parent][2])+1,0]])\n",
    "        elif(temp[4]==\"r\"):\n",
    "            ins_ball.append(ins_ball[parent]+[X[m-(nodes[parent][2])+1,1]])\n",
    "        cnt+=1\n",
    "        \n",
    "    ins_ball_list = []\n",
    "    cnt = 0\n",
    "    while cnt<len(nodes):\n",
    "        temp = nodes[cnt]\n",
    "        n_temp = temp[1]\n",
    "        m_temp = temp[2]\n",
    "        if(m_temp==0):\n",
    "            bin_arr = bin_space_gen(n_temp)\n",
    "            for i in range(len(bin_arr)):\n",
    "                ins_ball_list.append(ins_ball[cnt]+list(bin_arr[i]))\n",
    "        elif(n_temp==m_temp):\n",
    "            temp = []\n",
    "            for i in range(m_temp):\n",
    "                temp.append(X[m-m_temp+1+i,0])\n",
    "            ins_ball_list.append(ins_ball[cnt]+temp)\n",
    "        cnt+=1 \n",
    "\n",
    "    func = partial(ins_ball_eval_fun,sub_arr,card_Y,ins_ball_list, X)\n",
    "    if __name__ == '__main__':\n",
    "        with Pool(7) as p:\n",
    "            ins_ball_eval = list(tqdm.tqdm(p.imap(func, list(range(len(sub_arr)))),total = len(sub_arr)))\n",
    "\n",
    "    ent = []\n",
    "    ins = {}\n",
    "    for s in range(0,int(len(sub_arr))):\n",
    "        ins[s] = []\n",
    "        temp = 0 \n",
    "        for i in range(card_Y):\n",
    "            temp += wlogw(count(list_to_str(ins_ball_eval[s][i]),sub_arr[s]))\n",
    "            ins[s].append(list_to_str(ins_ball_eval[s][i]))\n",
    "        ent.append((sub_arr[s],round(temp,PRECISION)))\n",
    "    ent_sort = sorted(ent, key=lambda x: x[1])\n",
    "    \n",
    "    mark = np.zeros((len(ent_sort),1))\n",
    "    C = []\n",
    "    for i in range(len(ent_sort)-1,-1,-1):\n",
    "        if mark[bin_dec(ent_sort[i][0])] == 0:\n",
    "            mark[bin_dec(ent_sort[i][0])] = 1\n",
    "            C.append(ent_sort[i])\n",
    "            temp_list = ins[bin_dec(ent_sort[i][0])]\n",
    "            for j in range(card_Y):\n",
    "                temp = temp_list[j]\n",
    "                for s in range(int(len(sub_arr))):\n",
    "                    if(mark[s]==0):\n",
    "                        if temp in ins[s]:\n",
    "                            mark[s] =1 \n",
    "    return C,ent_sort"
   ]
  },
  {
   "cell_type": "code",
   "execution_count": 12,
   "metadata": {},
   "outputs": [
    {
     "name": "stderr",
     "output_type": "stream",
     "text": [
      "100%|█████████████████████████████████████████| 512/512 [00:51<00:00,  9.96it/s]\n",
      "  0%|                                                   | 0/512 [00:00<?, ?it/s]\n"
     ]
    },
    {
     "ename": "TypeError",
     "evalue": "comp() missing 1 required positional argument: 'z2'",
     "output_type": "error",
     "traceback": [
      "\u001b[0;31m---------------------------------------------------------------------------\u001b[0m",
      "\u001b[0;31mTypeError\u001b[0m                                 Traceback (most recent call last)",
      "Input \u001b[0;32mIn [12]\u001b[0m, in \u001b[0;36m<cell line: 1>\u001b[0;34m()\u001b[0m\n\u001b[0;32m----> 1\u001b[0m c_9,a \u001b[38;5;241m=\u001b[39m \u001b[43mgreedy_code\u001b[49m\u001b[43m(\u001b[49m\u001b[38;5;241;43m11\u001b[39;49m\u001b[43m,\u001b[49m\u001b[38;5;241;43m9\u001b[39;49m\u001b[43m)\u001b[49m\n",
      "Input \u001b[0;32mIn [11]\u001b[0m, in \u001b[0;36mgreedy_code\u001b[0;34m(n, m)\u001b[0m\n\u001b[1;32m     69\u001b[0m \u001b[38;5;28;01mfor\u001b[39;00m i \u001b[38;5;129;01min\u001b[39;00m tqdm\u001b[38;5;241m.\u001b[39mtqdm(\u001b[38;5;28mrange\u001b[39m(\u001b[38;5;28mlen\u001b[39m(ent_sort))):\n\u001b[1;32m     70\u001b[0m     subseq \u001b[38;5;241m=\u001b[39m ent_sort[i][\u001b[38;5;241m0\u001b[39m]\n\u001b[0;32m---> 71\u001b[0m     c_subseq \u001b[38;5;241m=\u001b[39m \u001b[43mcomp\u001b[49m\u001b[43m(\u001b[49m\u001b[43msubseq\u001b[49m\u001b[43m)\u001b[49m\n\u001b[1;32m     72\u001b[0m     s \u001b[38;5;241m=\u001b[39m bin_dec(subseq)\n\u001b[1;32m     73\u001b[0m     cs \u001b[38;5;241m=\u001b[39m bin_dec(c_subseq)\n",
      "\u001b[0;31mTypeError\u001b[0m: comp() missing 1 required positional argument: 'z2'"
     ]
    }
   ],
   "source": [
    "c_9,a = greedy_code(11,9)"
   ]
  },
  {
   "cell_type": "code",
   "execution_count": 10,
   "metadata": {},
   "outputs": [
    {
     "data": {
      "text/plain": [
       "[('111111111', 683.386875),\n",
       " ('000000000', 683.386875),\n",
       " ('111111000', 584.513798),\n",
       " ('111000000', 584.513798),\n",
       " ('000111111', 584.513798),\n",
       " ('000000111', 584.513798),\n",
       " ('111000111', 514.960812),\n",
       " ('000111000', 514.960812),\n",
       " ('100110110', 440.148003),\n",
       " ('011001001', 440.148003)]"
      ]
     },
     "execution_count": 10,
     "metadata": {},
     "output_type": "execute_result"
    }
   ],
   "source": [
    "c_9"
   ]
  },
  {
   "cell_type": "code",
   "execution_count": 68,
   "metadata": {},
   "outputs": [],
   "source": [
    "# a"
   ]
  },
  {
   "cell_type": "code",
   "execution_count": 157,
   "metadata": {},
   "outputs": [],
   "source": [
    "# C = {}\n",
    "C = pd.read_pickle(\"code2\")"
   ]
  },
  {
   "cell_type": "code",
   "execution_count": null,
   "metadata": {},
   "outputs": [],
   "source": [
    "# k = 2\n",
    "# for i in range(4,15):\n",
    "#     C[i] = greedy_code(i+k,i)"
   ]
  },
  {
   "cell_type": "code",
   "execution_count": 49,
   "metadata": {},
   "outputs": [],
   "source": [
    "k = 2 \n",
    "lenC = []\n",
    "redC = []\n",
    "frac_redC = []\n",
    "th_redC = []\n",
    "frac_th_redC = []\n",
    "for i in range(4,15):\n",
    "    lenC.append(len(C[i]))\n",
    "    redC.append(i-math.log(len(C[i]),2))\n",
    "    th_redC.append(2*k*math.log(i,2))\n",
    "    \n",
    "    frac_redC.append(1-(math.log(len(C[i]),2)/i))\n",
    "    frac_th_redC.append((2*k*math.log(i,2))/i)"
   ]
  },
  {
   "cell_type": "code",
   "execution_count": 64,
   "metadata": {},
   "outputs": [
    {
     "data": {
      "text/plain": [
       "[0.75,\n",
       " 0.8,\n",
       " 0.6666666666666667,\n",
       " 0.6682959864446625,\n",
       " 0.6490806347427995,\n",
       " 0.6308968783458486,\n",
       " 0.6192645077942396,\n",
       " 0.6006984161110218,\n",
       " 0.5833333333333333,\n",
       " 0.5727239344863355,\n",
       " 0.5550843792502942]"
      ]
     },
     "execution_count": 64,
     "metadata": {},
     "output_type": "execute_result"
    }
   ],
   "source": [
    "frac_redC"
   ]
  },
  {
   "cell_type": "code",
   "execution_count": 52,
   "metadata": {},
   "outputs": [
    {
     "data": {
      "image/png": "[encoded data removed]",
      "text/plain": [
       "<Figure size 432x288 with 1 Axes>"
      ]
     },
     "metadata": {
      "needs_background": "light"
     },
     "output_type": "display_data"
    }
   ],
   "source": [
    "plt.plot(list(range(4,15)),redC,\"*-\")\n",
    "plt.plot(list(range(4,15)),th_redC,\"*-\")\n",
    "plt.legend([\"code\",\"theoretical\"])\n",
    "plt.xlabel(\"length\")\n",
    "plt.ylabel(\"redundancy\")\n",
    "plt.xlim(2,16)\n",
    "plt.ylim(2,16)\n",
    "# plt.rcParams['figure.figsize'] = [7,7]\n",
    "plt.show()"
   ]
  },
  {
   "cell_type": "code",
   "execution_count": 53,
   "metadata": {},
   "outputs": [
    {
     "data": {
      "image/png": "[encoded data removed]",
      "text/plain": [
       "<Figure size 432x288 with 1 Axes>"
      ]
     },
     "metadata": {
      "needs_background": "light"
     },
     "output_type": "display_data"
    }
   ],
   "source": [
    "plt.plot(list(range(4,15)),frac_redC,\"*-\")\n",
    "plt.plot(list(range(4,15)),frac_th_redC,\"*-\")\n",
    "plt.legend([\"code\",\"theoretical\"])\n",
    "plt.xlabel(\"length\")\n",
    "plt.ylabel(\"frac_redundancy\")\n",
    "plt.xlim(2,16)\n",
    "plt.ylim(0,3)\n",
    "# plt.rcParams['figure.figsize'] = [7,7]\n",
    "plt.show()"
   ]
  },
  {
   "cell_type": "code",
   "execution_count": null,
   "metadata": {},
   "outputs": [],
   "source": [
    "# code2 = open(\"code2\", \"wb\")\n",
    "# pickle.dump(C,code2)\n",
    "# code2.close()"
   ]
  },
  {
   "cell_type": "code",
   "execution_count": 36,
   "metadata": {},
   "outputs": [],
   "source": [
    "# code2 = pd.read_pickle(\"code2\")"
   ]
  },
  {
   "cell_type": "code",
   "execution_count": 11,
   "metadata": {},
   "outputs": [],
   "source": [
    "def del2(seq):\n",
    "    if type(seq) != str:\n",
    "        seq = list_to_str(seq)\n",
    "    del_list = []\n",
    "    for i in range(len(seq)):\n",
    "        for j in range(i):\n",
    "            temp = \"\"\n",
    "            for k in range(len(seq)):\n",
    "                if k!=i and k!=j:\n",
    "                    temp += seq[k]\n",
    "            del_list.append(temp)\n",
    "    return list(set(del_list))"
   ]
  },
  {
   "cell_type": "code",
   "execution_count": 12,
   "metadata": {},
   "outputs": [],
   "source": [
    "def i2d2_bal(sub_arr,card_Y,ins_ball_list,X,subseq):\n",
    "    insbal = ins_ball_eval_fun(sub_arr,card_Y,ins_ball_list,X,bin_dec(subseq))\n",
    "    i2d2 = []                             \n",
    "    for i in range(card_Y):\n",
    "        temp = del2(list_to_str(insbal[i]))\n",
    "        for j in range(len(temp)):\n",
    "            i2d2.append(temp[j])\n",
    "\n",
    "    return list(set(i2d2))"
   ]
  },
  {
   "cell_type": "code",
   "execution_count": 13,
   "metadata": {},
   "outputs": [],
   "source": [
    "def comp_i2d2_bal(i2d2bal_temp):\n",
    "    c_i2d2_bal = []\n",
    "    for i in range(len(i2d2bal_temp)):\n",
    "        c_i2d2_bal.append(comp(i2d2bal_temp[i]))\n",
    "    return c_i2d2_bal   "
   ]
  },
  {
   "cell_type": "code",
   "execution_count": 14,
   "metadata": {},
   "outputs": [],
   "source": [
    "def comp(s):\n",
    "    cs = \"\"\n",
    "    for i in range(len(s)):\n",
    "        cs += str((int(s[i])+1)%2)\n",
    "    return cs "
   ]
  },
  {
   "cell_type": "code",
   "execution_count": 15,
   "metadata": {},
   "outputs": [],
   "source": [
    "def RLE(s):\n",
    "    rs = \"\"\n",
    "    temp = s[0]\n",
    "    cnt = 0\n",
    "    mr = 0 \n",
    "    LEN = 0\n",
    "    for i in range(0,len(s)):\n",
    "        if s[i]==temp:\n",
    "            cnt+=1\n",
    "        else:\n",
    "            rs += str(cnt)\n",
    "            rs += \",\"\n",
    "            LEN += 1\n",
    "            mr = max(mr,cnt)\n",
    "            cnt = 1\n",
    "            temp = s[i]\n",
    "    rs += str(cnt)\n",
    "    mr = max(mr,cnt)\n",
    "    return (s[0],rs,LEN+1,mr)"
   ]
  },
  {
   "cell_type": "code",
   "execution_count": 16,
   "metadata": {},
   "outputs": [],
   "source": [
    "def greedy_code_RLE(n,m):\n",
    "    sup_arr = bin_space_gen(n)\n",
    "    sub_arr = bin_space_gen(m)\n",
    "\n",
    "    X = MatrixSymbol('X', m+1, 2)\n",
    "\n",
    "    card_Y = 0\n",
    "    for i in range(0,n-m+1):\n",
    "        card_Y += choose(n-1-i,m-1)*(2**(i))\n",
    "\n",
    "    cnt = 0 \n",
    "    nodes = deque([(0,n,m,-1,\"root\")])\n",
    "    parent_stack = deque([0])\n",
    "    n_temp = n\n",
    "    m_temp = m\n",
    "    parent = 0\n",
    "    while parent_stack:\n",
    "        add_node(nodes,parent_stack,\"l\",n_temp-1, m_temp-1, parent)\n",
    "        add_node(nodes,parent_stack,\"r\",n_temp-1, m_temp, parent)\n",
    "        parent_stack.popleft()\n",
    "\n",
    "    ins_ball = [[]]\n",
    "    cnt = 1 \n",
    "    while cnt <len(nodes):\n",
    "        temp = nodes[cnt]\n",
    "        parent = temp[3]\n",
    "        if(temp[4]==\"l\"):\n",
    "            ins_ball.append(ins_ball[parent]+[X[m-(nodes[parent][2])+1,0]])\n",
    "        elif(temp[4]==\"r\"):\n",
    "            ins_ball.append(ins_ball[parent]+[X[m-(nodes[parent][2])+1,1]])\n",
    "        cnt+=1\n",
    "\n",
    "    ins_ball_list = []\n",
    "    cnt = 0\n",
    "    while cnt<len(nodes):\n",
    "        temp = nodes[cnt]\n",
    "        n_temp = temp[1]\n",
    "        m_temp = temp[2]\n",
    "        if(m_temp==0):\n",
    "            bin_arr = bin_space_gen(n_temp)\n",
    "            for i in range(len(bin_arr)):\n",
    "                ins_ball_list.append(ins_ball[cnt]+list(bin_arr[i]))\n",
    "        elif(n_temp==m_temp):\n",
    "            temp = []\n",
    "            for i in range(m_temp):\n",
    "                temp.append(X[m-m_temp+1+i,0])\n",
    "            ins_ball_list.append(ins_ball[cnt]+temp)\n",
    "        cnt+=1 \n",
    "\n",
    "    ent = []\n",
    "    for s in range(0,int(len(sub_arr))):\n",
    "        rle = RLE(sub_arr[s])\n",
    "        ent.append((sub_arr[s],rle[1],rle[2],m-rle[3]))\n",
    "    ent_sort = sorted(ent, key = operator.itemgetter(2,3))# ent_sort\n",
    "\n",
    "    mark = np.zeros((len(ent_sort),1))\n",
    "    CNT = 0 \n",
    "    C = []\n",
    "    for i in tqdm.tqdm(range(len(ent_sort))):\n",
    "        subseq = ent_sort[i][0]\n",
    "        c_subseq = comp(subseq)\n",
    "        s = bin_dec(subseq)\n",
    "        cs = bin_dec(c_subseq)\n",
    "    \n",
    "        if int(mark[s]) == 0:\n",
    "            mark[s] = 1\n",
    "            mark[cs] = 1\n",
    "            cnt = 1 \n",
    "            c_cnt = 1             \n",
    "            i2d2bal = i2d2_bal(sub_arr,card_Y,ins_ball_list,X,subseq)\n",
    "            c_i2d2bal = comp_i2d2_bal(i2d2bal)\n",
    "            \n",
    "            for j in range(len(i2d2bal)):\n",
    "                if mark[bin_dec(i2d2bal[j])] == 0:\n",
    "                    cnt += 1\n",
    "                    mark[bin_dec(i2d2bal[j])] = 1 \n",
    "                    \n",
    "                if mark[bin_dec(c_i2d2bal[j])] == 0:                \n",
    "                    c_cnt += 1\n",
    "                    mark[bin_dec(c_i2d2bal[j])] = 1 \n",
    "#             print(cnt,c_cnt)    \n",
    "            C.append((subseq,cnt,len(i2d2bal)))\n",
    "            C.append((c_subseq,c_cnt,len(i2d2bal)))\n",
    "            CNT += cnt + c_cnt\n",
    "            \n",
    "    return C, CNT"
   ]
  },
  {
   "cell_type": "code",
   "execution_count": 34,
   "metadata": {},
   "outputs": [
    {
     "name": "stderr",
     "output_type": "stream",
     "text": [
      "100%|██████████████████████████████████████| 4096/4096 [00:10<00:00, 392.48it/s]\n"
     ]
    }
   ],
   "source": [
    "m = 12\n",
    "k = 2\n",
    "C_12, CNT = greedy_code_RLE(m+k,m)"
   ]
  },
  {
   "cell_type": "code",
   "execution_count": 35,
   "metadata": {},
   "outputs": [
    {
     "data": {
      "text/plain": [
       "[('000000000000', 79, 79),\n",
       " ('111111111111', 79, 79),\n",
       " ('000000000111', 163, 188),\n",
       " ('111111111000', 163, 188),\n",
       " ('000111111111', 150, 188),\n",
       " ('111000000000', 150, 188),\n",
       " ('000000111111', 136, 188),\n",
       " ('111111000000', 136, 188),\n",
       " ('000000111000', 236, 332),\n",
       " ('111111000111', 236, 332),\n",
       " ('000111000000', 206, 332),\n",
       " ('111000111111', 206, 332),\n",
       " ('000111111000', 160, 332),\n",
       " ('111000000111', 160, 332),\n",
       " ('001111000011', 219, 511),\n",
       " ('110000111100', 219, 511),\n",
       " ('001100111110', 224, 651),\n",
       " ('110011000001', 224, 651),\n",
       " ('011111001100', 171, 651),\n",
       " ('100000110011', 171, 651),\n",
       " ('000110001101', 138, 781),\n",
       " ('111001110010', 138, 781),\n",
       " ('010000001010', 68, 626),\n",
       " ('101111110101', 68, 626),\n",
       " ('001001010000', 58, 656),\n",
       " ('110110101111', 58, 656),\n",
       " ('000101101001', 34, 886),\n",
       " ('111010010110', 34, 886),\n",
       " ('010001010111', 6, 766),\n",
       " ('101110101000', 6, 766)]"
      ]
     },
     "execution_count": 35,
     "metadata": {},
     "output_type": "execute_result"
    }
   ],
   "source": [
    "C_12"
   ]
  },
  {
   "cell_type": "code",
   "execution_count": 36,
   "metadata": {},
   "outputs": [
    {
     "data": {
      "text/plain": [
       "4096"
      ]
     },
     "execution_count": 36,
     "metadata": {},
     "output_type": "execute_result"
    }
   ],
   "source": [
    " CNT"
   ]
  },
  {
   "cell_type": "code",
   "execution_count": 57,
   "metadata": {},
   "outputs": [
    {
     "data": {
      "text/plain": [
       "8"
      ]
     },
     "execution_count": 57,
     "metadata": {},
     "output_type": "execute_result"
    }
   ],
   "source": [
    "bin_dec(\"1000\")"
   ]
  },
  {
   "cell_type": "code",
   "execution_count": 40,
   "metadata": {},
   "outputs": [],
   "source": [
    "def check_code(C):\n",
    "    n = len(C[0])\n",
    "    for i in tqdm.tqdm(range(len(C))):\n",
    "        for j in range(i):\n",
    "            if edit_dis(C[i],C[j],n,n) <= 2:\n",
    "                print(C[i], C[j])\n",
    "                return \"INVALID\"\n",
    "    return \"VALID\""
   ]
  },
  {
   "cell_type": "code",
   "execution_count": 104,
   "metadata": {},
   "outputs": [
    {
     "name": "stderr",
     "output_type": "stream",
     "text": [
      "100%|██████████████████████████████████████████| 16/16 [00:00<00:00, 134.32it/s]\n",
      "100%|██████████████████████████████████████████| 32/32 [00:00<00:00, 206.34it/s]\n",
      "100%|██████████████████████████████████████████| 64/64 [00:00<00:00, 135.69it/s]\n",
      "100%|████████████████████████████████████████| 128/128 [00:00<00:00, 132.21it/s]\n",
      "100%|████████████████████████████████████████| 256/256 [00:01<00:00, 153.04it/s]\n",
      "100%|████████████████████████████████████████| 512/512 [00:02<00:00, 182.40it/s]\n",
      "100%|██████████████████████████████████████| 1024/1024 [00:05<00:00, 200.09it/s]\n",
      "100%|██████████████████████████████████████| 2048/2048 [00:10<00:00, 186.83it/s]\n",
      "100%|██████████████████████████████████████| 4096/4096 [00:19<00:00, 211.22it/s]\n",
      "100%|██████████████████████████████████████| 8192/8192 [00:40<00:00, 202.57it/s]\n",
      "100%|████████████████████████████████████| 16384/16384 [01:16<00:00, 214.04it/s]\n",
      "100%|████████████████████████████████████| 32768/32768 [02:26<00:00, 224.07it/s]\n",
      "100%|████████████████████████████████████| 65536/65536 [04:32<00:00, 240.10it/s]\n",
      "100%|██████████████████████████████████| 131072/131072 [08:32<00:00, 255.99it/s]\n",
      "100%|██████████████████████████████████| 262144/262144 [17:08<00:00, 254.81it/s]\n",
      "100%|██████████████████████████████████| 524288/524288 [33:25<00:00, 261.40it/s]\n"
     ]
    }
   ],
   "source": [
    "k = 2\n",
    "C = {}\n",
    "for i in range(4,20):\n",
    "    C[i] = greedy_code_RLE(i+k,i)"
   ]
  },
  {
   "cell_type": "code",
   "execution_count": 54,
   "metadata": {},
   "outputs": [],
   "source": [
    "# k = 2\n",
    "# C = {}\n",
    "# for i in range(20,22):\n",
    "#     C[i] = greedy_code_RLE(i+k,i)"
   ]
  },
  {
   "cell_type": "code",
   "execution_count": 31,
   "metadata": {},
   "outputs": [],
   "source": [
    "for i in range(4,22):\n",
    "    for j in range(len(C[i])):\n",
    "        rle = RLE(C[i][j])\n",
    "        temp = C[i][j]\n",
    "        C[i][j] = (temp,rle[1],rle[2],rle[3])"
   ]
  },
  {
   "cell_type": "code",
   "execution_count": 16,
   "metadata": {},
   "outputs": [
    {
     "data": {
      "text/plain": [
       "('0', '3,3,3,3', 4, 3)"
      ]
     },
     "execution_count": 16,
     "metadata": {},
     "output_type": "execute_result"
    }
   ],
   "source": [
    "RLE(\"000111000111\")"
   ]
  },
  {
   "cell_type": "code",
   "execution_count": 17,
   "metadata": {},
   "outputs": [],
   "source": [
    "k = 2 \n",
    "lenC = []\n",
    "redC = []\n",
    "frac_redC = []\n",
    "th_redC = []\n",
    "frac_th_redC = []\n",
    "for i in range(4,22):\n",
    "    lenC.append(len(C[i]))\n",
    "    redC.append(i-math.log(len(C[i]),2))\n",
    "    th_redC.append(k*math.log(i,2))\n",
    "    frac_redC.append(1-(math.log(len(C[i]),2)/i))\n",
    "    frac_th_redC.append((k*math.log(i,2))/i)"
   ]
  },
  {
   "cell_type": "code",
   "execution_count": 18,
   "metadata": {},
   "outputs": [
    {
     "data": {
      "image/png": "[encoded data removed]",
      "text/plain": [
       "<Figure size 432x288 with 1 Axes>"
      ]
     },
     "metadata": {
      "needs_background": "light"
     },
     "output_type": "display_data"
    }
   ],
   "source": [
    "plt.plot(list(range(4,22)),redC,\"*-\")\n",
    "plt.plot(list(range(4,22)),th_redC,\"*-\")\n",
    "plt.legend([\"code\",\"theoretical\"])\n",
    "plt.xlabel(\"length\")\n",
    "plt.ylabel(\"redundancy\")\n",
    "plt.xlim(2,22)\n",
    "plt.ylim(2,22)\n",
    "# plt.rcParams['figure.figsize'] = [7,7]\n",
    "plt.show()"
   ]
  },
  {
   "cell_type": "code",
   "execution_count": 19,
   "metadata": {},
   "outputs": [],
   "source": [
    "# r = 4 \n",
    "# for n in [15,18,21]:\n",
    "#     CNT = 0\n",
    "#     for i in range(len(C[n])):\n",
    "#         if C[n][i][2] == r:\n",
    "#             CNT +=1 \n",
    "#             print(C[n][i])\n",
    "#     print(CNT)"
   ]
  },
  {
   "cell_type": "code",
   "execution_count": 37,
   "metadata": {},
   "outputs": [
    {
     "data": {
      "image/png": "[encoded data removed]",
      "text/plain": [
       "<Figure size 432x288 with 1 Axes>"
      ]
     },
     "metadata": {
      "needs_background": "light"
     },
     "output_type": "display_data"
    }
   ],
   "source": [
    "plt.plot(list(range(4,22)),frac_redC,\"*-\")\n",
    "plt.plot(list(range(4,22)),frac_th_redC,\"*-\")\n",
    "plt.legend([\"code\",\"theoretical\"])\n",
    "plt.xlabel(\"length\")\n",
    "plt.ylabel(\"frac_redundancy\")\n",
    "plt.xlim(2,22)\n",
    "plt.ylim(0,1.2)\n",
    "# plt.rcParams['figure.figsize'] = [7,7]\n",
    "plt.show()"
   ]
  },
  {
   "cell_type": "code",
   "execution_count": 92,
   "metadata": {},
   "outputs": [],
   "source": [
    "# code2 = open(\"code2\", \"wb\")\n",
    "# pickle.dump(C,code2)\n",
    "# code2.close()"
   ]
  },
  {
   "cell_type": "code",
   "execution_count": 30,
   "metadata": {},
   "outputs": [],
   "source": [
    "C = pd.read_pickle(\"code2\") "
   ]
  },
  {
   "cell_type": "code",
   "execution_count": 55,
   "metadata": {},
   "outputs": [],
   "source": []
  },
  {
   "cell_type": "code",
   "execution_count": 33,
   "metadata": {},
   "outputs": [
    {
     "data": {
      "text/plain": [
       "[('0000000000', '10', 1, 10),\n",
       " ('1111111111', '10', 1, 10),\n",
       " ('0000000111', '7,3', 2, 7),\n",
       " ('1111111000', '7,3', 2, 7),\n",
       " ('0001111111', '3,7', 2, 7),\n",
       " ('1110000000', '3,7', 2, 7),\n",
       " ('0000111000', '4,3,3', 3, 4),\n",
       " ('1111000111', '4,3,3', 3, 4),\n",
       " ('0011000010', '2,2,4,1,1', 5, 4),\n",
       " ('1100111101', '2,2,4,1,1', 5, 4),\n",
       " ('0111100100', '1,4,2,1,2', 5, 4),\n",
       " ('1000011011', '1,4,2,1,2', 5, 4),\n",
       " ('0101101110', '1,1,1,2,1,3,1', 7, 3),\n",
       " ('1010010001', '1,1,1,2,1,3,1', 7, 3)]"
      ]
     },
     "execution_count": 33,
     "metadata": {},
     "output_type": "execute_result"
    }
   ],
   "source": [
    "C[10]"
   ]
  },
  {
   "cell_type": "code",
   "execution_count": 15,
   "metadata": {},
   "outputs": [
    {
     "data": {
      "text/plain": [
       "[('000000000000000', '15', 1, 15),\n",
       " ('111111111111111', '15', 1, 15),\n",
       " ('000000000000111', '12,3', 2, 12),\n",
       " ('111111111111000', '12,3', 2, 12),\n",
       " ('000111111111111', '3,12', 2, 12),\n",
       " ('111000000000000', '3,12', 2, 12),\n",
       " ('000000000111111', '9,6', 2, 9),\n",
       " ('111111111000000', '9,6', 2, 9),\n",
       " ('000000111111111', '6,9', 2, 9),\n",
       " ('111111000000000', '6,9', 2, 9),\n",
       " ('000000000111000', '9,3,3', 3, 9),\n",
       " ('111111111000111', '9,3,3', 3, 9),\n",
       " ('000111000000000', '3,3,9', 3, 9),\n",
       " ('111000111111111', '3,3,9', 3, 9),\n",
       " ('000111111111000', '3,9,3', 3, 9),\n",
       " ('111000000000111', '3,9,3', 3, 9),\n",
       " ('000000111000000', '6,3,6', 3, 6),\n",
       " ('111111000111111', '6,3,6', 3, 6),\n",
       " ('000000111111000', '6,6,3', 3, 6),\n",
       " ('111111000000111', '6,6,3', 3, 6),\n",
       " ('000111111000000', '3,6,6', 3, 6),\n",
       " ('111000000111111', '3,6,6', 3, 6),\n",
       " ('001111000000011', '2,4,7,2', 4, 7),\n",
       " ('110000111111100', '2,4,7,2', 4, 7),\n",
       " ('001111111000011', '2,7,4,2', 4, 7),\n",
       " ('110000000111100', '2,7,4,2', 4, 7),\n",
       " ('000000111000111', '6,3,3,3', 4, 6),\n",
       " ('111111000111000', '6,3,3,3', 4, 6),\n",
       " ('000111000111111', '3,3,3,6', 4, 6),\n",
       " ('111000111000000', '3,3,3,6', 4, 6),\n",
       " ('001100111111110', '2,2,2,8,1', 5, 8),\n",
       " ('110011000000001', '2,2,2,8,1', 5, 8),\n",
       " ('011111111001100', '1,8,2,2,2', 5, 8),\n",
       " ('100000000110011', '1,8,2,2,2', 5, 8),\n",
       " ('000011000000110', '4,2,6,2,1', 5, 6),\n",
       " ('111100111111001', '4,2,6,2,1', 5, 6),\n",
       " ('011000000110000', '1,2,6,2,4', 5, 6),\n",
       " ('100111111001111', '1,2,6,2,4', 5, 6),\n",
       " ('000001100111110', '5,2,2,5,1', 5, 5),\n",
       " ('111110011000001', '5,2,2,5,1', 5, 5),\n",
       " ('000011111000110', '4,5,3,2,1', 5, 5),\n",
       " ('111100000111001', '4,5,3,2,1', 5, 5),\n",
       " ('001110000011110', '2,3,5,4,1', 5, 5),\n",
       " ('110001111100001', '2,3,5,4,1', 5, 5),\n",
       " ('000111000111000', '3,3,3,3,3', 5, 3),\n",
       " ('111000111000111', '3,3,3,3,3', 5, 3),\n",
       " ('000001100110001', '5,2,2,2,3,1', 6, 5),\n",
       " ('111110011001110', '5,2,2,2,3,1', 6, 5),\n",
       " ('001001111000001', '2,1,2,4,5,1', 6, 5),\n",
       " ('110110000111110', '2,1,2,4,5,1', 6, 5),\n",
       " ('011001100000111', '1,2,2,2,5,3', 6, 5),\n",
       " ('100110011111000', '1,2,2,2,5,3', 6, 5),\n",
       " ('011100110011111', '1,3,2,2,2,5', 6, 5),\n",
       " ('100011001100000', '1,3,2,2,2,5', 6, 5),\n",
       " ('011111000011011', '1,5,4,2,1,2', 6, 5),\n",
       " ('100000111100100', '1,5,4,2,1,2', 6, 5),\n",
       " ('000111100100111', '3,4,2,1,2,3', 6, 4),\n",
       " ('111000011011000', '3,4,2,1,2,3', 6, 4),\n",
       " ('011000011110011', '1,2,4,4,2,2', 6, 4),\n",
       " ('100111100001100', '1,2,4,4,2,2', 6, 4),\n",
       " ('011011100000010', '1,2,1,3,6,1,1', 7, 6),\n",
       " ('100100011111101', '1,2,1,3,6,1,1', 7, 6),\n",
       " ('000001000100100', '5,1,3,1,2,1,2', 7, 5),\n",
       " ('111110111011011', '5,1,3,1,2,1,2', 7, 5),\n",
       " ('001000001000010', '2,1,5,1,4,1,1', 7, 5),\n",
       " ('110111110111101', '2,1,5,1,4,1,1', 7, 5),\n",
       " ('001111100110100', '2,5,2,2,1,1,2', 7, 5),\n",
       " ('110000011001011', '2,5,2,2,1,1,2', 7, 5),\n",
       " ('011011011100000', '1,2,1,2,1,3,5', 7, 5),\n",
       " ('100100100011111', '1,2,1,2,1,3,5', 7, 5),\n",
       " ('011100111100010', '1,3,2,4,3,1,1', 7, 4),\n",
       " ('100011000011101', '1,3,2,4,3,1,1', 7, 4),\n",
       " ('011110001001000', '1,4,3,1,2,1,3', 7, 4),\n",
       " ('100001110110111', '1,4,3,1,2,1,3', 7, 4),\n",
       " ('011000110011100', '1,2,3,2,2,3,2', 7, 3),\n",
       " ('100111001100011', '1,2,3,2,2,3,2', 7, 3),\n",
       " ('000000010101101', '7,1,1,1,1,2,1,1', 8, 7),\n",
       " ('111111101010010', '7,1,1,1,1,2,1,1', 8, 7),\n",
       " ('010101101111111', '1,1,1,1,1,2,1,7', 8, 7),\n",
       " ('101010010000000', '1,1,1,1,1,2,1,7', 8, 7),\n",
       " ('000101111110101', '3,1,1,6,1,1,1,1', 8, 6),\n",
       " ('111010000001010', '3,1,1,6,1,1,1,1', 8, 6),\n",
       " ('000100100001011', '3,1,2,1,4,1,1,2', 8, 4),\n",
       " ('111011011110100', '3,1,2,1,4,1,1,2', 8, 4),\n",
       " ('000110100100001', '3,2,1,1,2,1,4,1', 8, 4),\n",
       " ('111001011011110', '3,2,1,1,2,1,4,1', 8, 4),\n",
       " ('001111010111011', '2,4,1,1,1,3,1,2', 8, 4),\n",
       " ('110000101000100', '2,4,1,1,1,3,1,2', 8, 4),\n",
       " ('010001001101111', '1,1,3,1,2,2,1,4', 8, 4),\n",
       " ('101110110010000', '1,1,3,1,2,2,1,4', 8, 4),\n",
       " ('010001011000011', '1,1,3,1,1,2,4,2', 8, 4),\n",
       " ('101110100111100', '1,1,3,1,1,2,4,2', 8, 4),\n",
       " ('010110000110001', '1,1,1,2,4,2,3,1', 8, 4),\n",
       " ('101001111001110', '1,1,1,2,4,2,3,1', 8, 4),\n",
       " ('011011110110001', '1,2,1,4,1,2,3,1', 8, 4),\n",
       " ('100100001001110', '1,2,1,4,1,2,3,1', 8, 4),\n",
       " ('011100100001001', '1,3,2,1,4,1,2,1', 8, 4),\n",
       " ('100011011110110', '1,3,2,1,4,1,2,1', 8, 4),\n",
       " ('011101111010111', '1,3,1,4,1,1,1,3', 8, 4),\n",
       " ('100010000101000', '1,3,1,4,1,1,1,3', 8, 4),\n",
       " ('000110010110011', '3,2,2,1,1,2,2,2', 8, 3),\n",
       " ('111001101001100', '3,2,2,1,1,2,2,2', 8, 3),\n",
       " ('000010101101000', '4,1,1,1,1,2,1,1,3', 9, 4),\n",
       " ('111101010010111', '4,1,1,1,1,2,1,1,3', 9, 4),\n",
       " ('001000011101010', '2,1,4,3,1,1,1,1,1', 9, 4),\n",
       " ('110111100010101', '2,1,4,3,1,1,1,1,1', 9, 4),\n",
       " ('010100011010000', '1,1,1,1,3,2,1,1,4', 9, 4),\n",
       " ('101011100101111', '1,1,1,1,3,2,1,1,4', 9, 4),\n",
       " ('001001100011010', '2,1,2,2,3,2,1,1,1', 9, 3),\n",
       " ('110110011100101', '2,1,2,2,3,2,1,1,1', 9, 3),\n",
       " ('001101010001000', '2,2,1,1,1,1,3,1,3', 9, 3),\n",
       " ('110010101110111', '2,2,1,1,1,1,3,1,3', 9, 3),\n",
       " ('010011101101100', '1,1,2,3,1,2,1,2,2', 9, 3),\n",
       " ('101100010010011', '1,1,2,3,1,2,1,2,2', 9, 3),\n",
       " ('011010100011101', '1,2,1,1,1,1,3,3,1,1', 10, 3),\n",
       " ('100101011100010', '1,2,1,1,1,1,3,3,1,1', 10, 3),\n",
       " ('001101001101101', '2,2,1,1,2,2,1,2,1,1', 10, 2),\n",
       " ('110010110010010', '2,2,1,1,2,2,1,2,1,1', 10, 2),\n",
       " ('000101010101110', '3,1,1,1,1,1,1,1,1,3,1', 11, 3),\n",
       " ('111010101010001', '3,1,1,1,1,1,1,1,1,3,1', 11, 3),\n",
       " ('010101001001010', '1,1,1,1,1,1,2,1,2,1,1,1,1', 13, 2),\n",
       " ('101010110110101', '1,1,1,1,1,1,2,1,2,1,1,1,1', 13, 2)]"
      ]
     },
     "execution_count": 15,
     "metadata": {},
     "output_type": "execute_result"
    }
   ],
   "source": [
    "C[15]"
   ]
  },
  {
   "cell_type": "code",
   "execution_count": null,
   "metadata": {},
   "outputs": [],
   "source": []
  },
  {
   "cell_type": "code",
   "execution_count": 253,
   "metadata": {},
   "outputs": [],
   "source": []
  },
  {
   "cell_type": "code",
   "execution_count": null,
   "metadata": {},
   "outputs": [],
   "source": []
  },
  {
   "cell_type": "code",
   "execution_count": null,
   "metadata": {},
   "outputs": [],
   "source": []
  },
  {
   "cell_type": "code",
   "execution_count": null,
   "metadata": {},
   "outputs": [],
   "source": []
  },
  {
   "cell_type": "code",
   "execution_count": null,
   "metadata": {},
   "outputs": [],
   "source": [
    "def delta(r,s):\n",
    "    if (r>s and s>=0):\n",
    "        temp = 0 \n",
    "        for i in range(s+1):\n",
    "            temp += choose(r-s,i)\n",
    "        return temp \n",
    "    elif (s == r and s>=0):\n",
    "        return 1 \n",
    "    else:\n",
    "        return 0 \n",
    "    \n",
    "def U(s,n):\n",
    "    temp =0 \n",
    "    for r in range(3,n-s+1):\n",
    "        tmp=0\n",
    "        for i in range(s+r-(n-s)-1,min(s-2,r-3)+1):\n",
    "            tmp+=delta(r-2,i)\n",
    "        temp+= (2*choose(n-s-1,r-1))/(delta(r,s)+tmp)\n",
    "    return temp"
   ]
  },
  {
   "cell_type": "code",
   "execution_count": null,
   "metadata": {},
   "outputs": [],
   "source": [
    "U(n-m,m)"
   ]
  },
  {
   "cell_type": "code",
   "execution_count": null,
   "metadata": {},
   "outputs": [],
   "source": [
    "2**(m-(n-m)*math.log(m,2))"
   ]
  },
  {
   "cell_type": "code",
   "execution_count": null,
   "metadata": {},
   "outputs": [],
   "source": [
    "# Single deletion: VT code, upper bound - kullkarni \n",
    "len(C), (2**(m))/((m)+1), ((2**(m))-2)/((m)-1)"
   ]
  },
  {
   "cell_type": "code",
   "execution_count": null,
   "metadata": {},
   "outputs": [],
   "source": []
  },
  {
   "cell_type": "code",
   "execution_count": null,
   "metadata": {},
   "outputs": [],
   "source": []
  },
  {
   "cell_type": "code",
   "execution_count": null,
   "metadata": {},
   "outputs": [],
   "source": []
  },
  {
   "cell_type": "code",
   "execution_count": null,
   "metadata": {},
   "outputs": [],
   "source": []
  },
  {
   "cell_type": "code",
   "execution_count": null,
   "metadata": {},
   "outputs": [],
   "source": []
  },
  {
   "cell_type": "code",
   "execution_count": 12,
   "metadata": {},
   "outputs": [],
   "source": []
  },
  {
   "cell_type": "code",
   "execution_count": null,
   "metadata": {},
   "outputs": [],
   "source": []
  },
  {
   "cell_type": "code",
   "execution_count": 72,
   "metadata": {},
   "outputs": [],
   "source": [
    "subseq = \"01010101010\""
   ]
  },
  {
   "cell_type": "code",
   "execution_count": null,
   "metadata": {},
   "outputs": [],
   "source": []
  },
  {
   "cell_type": "code",
   "execution_count": 77,
   "metadata": {},
   "outputs": [
    {
     "data": {
      "text/plain": [
       "11"
      ]
     },
     "execution_count": 77,
     "metadata": {},
     "output_type": "execute_result"
    }
   ],
   "source": [
    "m = len(subseq)\n",
    "n = m + 2 \n",
    "m"
   ]
  },
  {
   "cell_type": "code",
   "execution_count": 78,
   "metadata": {},
   "outputs": [],
   "source": [
    "sup_arr = bin_space_gen(n)\n",
    "sub_arr = bin_space_gen(m)\n",
    "\n",
    "X = MatrixSymbol('X', m+1, 2)\n",
    "\n",
    "card_Y = 0\n",
    "for i in range(0,n-m+1):\n",
    "    card_Y += choose(n-1-i,m-1)*(2**(i))\n",
    "\n",
    "cnt = 0 \n",
    "nodes = deque([(0,n,m,-1,\"root\")])\n",
    "parent_stack = deque([0])\n",
    "n_temp = n\n",
    "m_temp = m\n",
    "parent = 0\n",
    "while parent_stack:\n",
    "    add_node(nodes,parent_stack,\"l\",n_temp-1, m_temp-1, parent)\n",
    "    add_node(nodes,parent_stack,\"r\",n_temp-1, m_temp, parent)\n",
    "    parent_stack.popleft()\n",
    "\n",
    "ins_ball = [[]]\n",
    "cnt = 1 \n",
    "while cnt <len(nodes):\n",
    "    temp = nodes[cnt]\n",
    "    parent = temp[3]\n",
    "    if(temp[4]==\"l\"):\n",
    "        ins_ball.append(ins_ball[parent]+[X[m-(nodes[parent][2])+1,0]])\n",
    "    elif(temp[4]==\"r\"):\n",
    "        ins_ball.append(ins_ball[parent]+[X[m-(nodes[parent][2])+1,1]])\n",
    "    cnt+=1\n",
    "\n",
    "ins_ball_list = []\n",
    "cnt = 0\n",
    "while cnt<len(nodes):\n",
    "    temp = nodes[cnt]\n",
    "    n_temp = temp[1]\n",
    "    m_temp = temp[2]\n",
    "    if(m_temp==0):\n",
    "        bin_arr = bin_space_gen(n_temp)\n",
    "        for i in range(len(bin_arr)):\n",
    "            ins_ball_list.append(ins_ball[cnt]+list(bin_arr[i]))\n",
    "    elif(n_temp==m_temp):\n",
    "        temp = []\n",
    "        for i in range(m_temp):\n",
    "            temp.append(X[m-m_temp+1+i,0])\n",
    "        ins_ball_list.append(ins_ball[cnt]+temp)\n",
    "    cnt+=1 "
   ]
  },
  {
   "cell_type": "code",
   "execution_count": 79,
   "metadata": {},
   "outputs": [],
   "source": [
    "i2d2bal = i2d2_bal(sub_arr,card_Y,ins_ball_list,X,subseq)\n",
    "c_i2d2bal = comp_i2d2_bal(i2d2bal)"
   ]
  },
  {
   "cell_type": "code",
   "execution_count": 80,
   "metadata": {},
   "outputs": [
    {
     "data": {
      "text/plain": [
       "562"
      ]
     },
     "execution_count": 80,
     "metadata": {},
     "output_type": "execute_result"
    }
   ],
   "source": [
    "len(i2d2bal)"
   ]
  },
  {
   "cell_type": "code",
   "execution_count": null,
   "metadata": {},
   "outputs": [],
   "source": []
  }
 ],
 "metadata": {
  "celltoolbar": "Raw Cell Format",
  "colab": {
   "name": "Copy of Characterizing Uncertainty Set - desired ordering.ipynb",
   "provenance": []
  },
  "kernelspec": {
   "display_name": "Python 3 (ipykernel)",
   "language": "python",
   "name": "python3"
  },
  "language_info": {
   "codemirror_mode": {
    "name": "ipython",
    "version": 3
   },
   "file_extension": ".py",
   "mimetype": "text/x-python",
   "name": "python",
   "nbconvert_exporter": "python",
   "pygments_lexer": "ipython3",
   "version": "3.10.4"
  }
 },
 "nbformat": 4,
 "nbformat_minor": 1
}
