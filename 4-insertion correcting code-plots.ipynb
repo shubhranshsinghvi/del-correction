{
 "cells": [
  {
   "cell_type": "code",
   "execution_count": 18,
   "metadata": {
    "id": "RkjTwaL0z551"
   },
   "outputs": [],
   "source": [
    "import numpy as np\n",
    "import math \n",
    "from sympy import *\n",
    "from sympy.abc import x,y,X,Y\n",
    "import random\n",
    "import sys\n",
    "import pandas as pd\n",
    "import pickle\n",
    "import plotly.express as px\n",
    "# %load_ext memory_profiler\n",
    "from sympy import Symbol \n",
    "from sympy import MatrixSymbol, Matrix\n",
    "from collections import deque\n",
    "PRECISION = 6\n",
    "from multiprocessing import Pool\n",
    "from functools import partial\n",
    "import tqdm\n",
    "import time\n",
    "import json\n",
    "from matplotlib import pyplot as plt"
   ]
  },
  {
   "cell_type": "code",
   "execution_count": 19,
   "metadata": {},
   "outputs": [],
   "source": [
    "def delta(r,s):\n",
    "    if (r>s and s>=0):\n",
    "        temp = 0 \n",
    "        for i in range(s+1):\n",
    "            temp += choose(r-s,i)\n",
    "        return temp \n",
    "    elif (s == r and s>=0):\n",
    "        return 1 \n",
    "    else:\n",
    "        return 0 \n",
    "    \n",
    "def U(s,n):\n",
    "    temp =0 \n",
    "    for r in range(3,n-s+1):\n",
    "        tmp=0\n",
    "        for i in range(s+r-(n-s)-1,min(s-2,r-3)+1):\n",
    "            tmp+=delta(r-2,i)\n",
    "        temp+= (2*choose(n-s-1,r-1))/(delta(r,s)+tmp)\n",
    "    return temp"
   ]
  },
  {
   "cell_type": "code",
   "execution_count": 20,
   "metadata": {
    "id": "DYVkn8xqz554"
   },
   "outputs": [],
   "source": [
    "def bin_dec(s):\n",
    "    d = 0 \n",
    "    for i in range(len(s)):\n",
    "        d += int(s[i])*(2**(len(s)-i-1))\n",
    "    return d \n",
    "\n",
    "def bin_space_gen(d):\n",
    "    all_coeff = {}\n",
    "    for i in range(0,2**(d)): \n",
    "        t = i\n",
    "        all_coeff[i] = \"\"\n",
    "        for j in range (0,d):\n",
    "            all_coeff[i]= str(t%2)+all_coeff[i]\n",
    "            t = int(t/2)\n",
    "    return all_coeff\n",
    "\n",
    "def valid(vect,COUNT):\n",
    "    cnt = 0\n",
    "    for i in range(0,len(vect)):\n",
    "        if vect[i] == \"1\":\n",
    "            cnt+=1\n",
    "    if(cnt == COUNT) :\n",
    "        return 1 \n",
    "    else :\n",
    "        return 0\n",
    "    \n",
    "def count(a, b):\n",
    "    m = len(a)\n",
    "    n = len(b)\n",
    " \n",
    "    lookup = [[0] * (n + 1) for i in range(m + 1)]\n",
    " \n",
    "    # If first string is empty\n",
    "    for i in range(n+1):\n",
    "        lookup[0][i] = 0\n",
    " \n",
    "    # If second string is empty\n",
    "    for i in range(m + 1):\n",
    "        lookup[i][0] = 1\n",
    " \n",
    "    # Fill lookup[][] in bottom up manner\n",
    "    for i in range(1, m + 1):\n",
    "        for j in range(1, n + 1):\n",
    "            if a[i - 1] == b[j - 1]:\n",
    "                lookup[i][j] = lookup[i - 1][j - 1] + lookup[i - 1][j]     \n",
    "            else:\n",
    "                # If last character are different, ignore last character of first string\n",
    "                lookup[i][j] = lookup[i - 1][j]\n",
    " \n",
    "    return lookup[m][n]\n",
    "\n",
    "def size_ins_ball(n_temp,m_temp):\n",
    "    temp = 0\n",
    "    for r in range(m_temp,n_temp+1):\n",
    "        temp += math.comb(n_temp,r)\n",
    "    return temp"
   ]
  },
  {
   "cell_type": "code",
   "execution_count": 21,
   "metadata": {
    "id": "DUTz0OKB0jUt"
   },
   "outputs": [],
   "source": [
    "def choose(n, k):\n",
    "    \"\"\"\n",
    "    A fast way to calculate binomial coefficients by Andrew Dalke (contrib).\n",
    "    \"\"\"\n",
    "    if 0 <= k <= n:\n",
    "        ntok = 1\n",
    "        ktok = 1\n",
    "        for t in range(1, min(k, n - k) + 1):\n",
    "            ntok *= n\n",
    "            ktok *= t\n",
    "            n -= 1\n",
    "        return ntok // ktok\n",
    "    else:\n",
    "        return 0"
   ]
  },
  {
   "cell_type": "code",
   "execution_count": 22,
   "metadata": {
    "id": "IPlTb6g9z556"
   },
   "outputs": [],
   "source": [
    "def add_node(nodes,parent_stack,s,n_temp, m_temp, parent):\n",
    "    # print(s,n_temp, m_temp, parent)\n",
    "    # print(nodes)\n",
    "    # print(parent_stack)\n",
    "    if(n_temp>0 and n_temp!=m_temp and m_temp>0):\n",
    "        if(s==\"l\"):\n",
    "            if(m_temp-1>=0): \n",
    "                parent_stack.append(len(parent_stack))\n",
    "                nodes.append((len(nodes),n_temp,m_temp,parent,s))\n",
    "                temp = nodes[len(nodes)-1][0]\n",
    "                add_node(nodes,parent_stack,\"l\",n_temp-1, m_temp-1, temp)\n",
    "                add_node(nodes,parent_stack,\"r\",n_temp-1, m_temp,temp)\n",
    "                \n",
    "        elif(s==\"r\"):\n",
    "            parent_stack.append(len(parent_stack))\n",
    "            nodes.append((len(nodes),n_temp,m_temp,parent,s))\n",
    "            temp = nodes[len(nodes)-1][0]\n",
    "            add_node(nodes,parent_stack,\"l\",n_temp-1, m_temp-1, temp)\n",
    "            add_node(nodes,parent_stack,\"r\",n_temp-1, m_temp, temp)\n",
    "        parent_stack.pop()\n",
    "        \n",
    "    elif(n_temp==m_temp or m_temp==0):\n",
    "        nodes.append((len(nodes),n_temp,m_temp,parent,s))"
   ]
  },
  {
   "cell_type": "code",
   "execution_count": 23,
   "metadata": {
    "id": "7uzjspx30kp_"
   },
   "outputs": [],
   "source": [
    "def list_to_str(lst):\n",
    "    strn =\"\"\n",
    "    for i in range(len(lst)):\n",
    "        strn = strn+str(lst[i])\n",
    "    return strn\n",
    "\n",
    "def wlogw(wt):\n",
    "    return wt*math.log(wt,2)"
   ]
  },
  {
   "cell_type": "code",
   "execution_count": 24,
   "metadata": {},
   "outputs": [],
   "source": [
    "def read_sym(temp):\n",
    "    i = 0 \n",
    "    tmp = str(temp)\n",
    "    while tmp[i] != \"[\":\n",
    "        i+=1 \n",
    "    stp1 = i\n",
    "    while tmp[i] != \",\":\n",
    "        i+=1 \n",
    "    stp2 = i\n",
    "    return  (int(tmp[stp1+1:stp2]), int(tmp[stp2+2:stp2+3]))\n",
    "\n",
    "def ins_ball_eval_fun(sub_arr,card_Y,ins_ball_list,X,s):\n",
    "    ins_ball_eval = {}\n",
    "    sub_seq = sub_arr[s]\n",
    "    for i in range(card_Y):\n",
    "        ins_ball_eval[i] = []\n",
    "        for j in range(len(ins_ball_list[i])):\n",
    "            temp = ins_ball_list[i][j]\n",
    "            if(type(temp)!= str):\n",
    "                ind = read_sym(temp)\n",
    "                if(ind[1] == 0):\n",
    "                    temp = temp.subs(X[ind[0],0],sub_seq[ind[0]-1])\n",
    "                elif(ind[1] == 1):    \n",
    "                    temp = temp.subs(X[ind[0],1],(int(sub_seq[ind[0]-1])+1)%2)\n",
    "            ins_ball_eval[i].append(int(temp))\n",
    "    return ins_ball_eval"
   ]
  },
  {
   "cell_type": "code",
   "execution_count": 25,
   "metadata": {},
   "outputs": [],
   "source": [
    "def greedy_code(n,m):\n",
    "    sup_arr = bin_space_gen(n)\n",
    "    sub_arr = bin_space_gen(m)\n",
    "    \n",
    "    X = MatrixSymbol('X', m+1, 2)\n",
    "    \n",
    "    card_Y = 0\n",
    "    for i in range(0,n-m+1):\n",
    "        card_Y += choose(n-1-i,m-1)*(2**(i))\n",
    "        \n",
    "    cnt = 0 \n",
    "    nodes = deque([(0,n,m,-1,\"root\")])\n",
    "    parent_stack = deque([0])\n",
    "    n_temp = n\n",
    "    m_temp = m\n",
    "    parent = 0\n",
    "    while parent_stack:\n",
    "        add_node(nodes,parent_stack,\"l\",n_temp-1, m_temp-1, parent)\n",
    "        add_node(nodes,parent_stack,\"r\",n_temp-1, m_temp, parent)\n",
    "        parent_stack.popleft()\n",
    "        \n",
    "    ins_ball = [[]]\n",
    "    cnt = 1 \n",
    "    while cnt <len(nodes):\n",
    "        temp = nodes[cnt]\n",
    "        parent = temp[3]\n",
    "        if(temp[4]==\"l\"):\n",
    "            ins_ball.append(ins_ball[parent]+[X[m-(nodes[parent][2])+1,0]])\n",
    "        elif(temp[4]==\"r\"):\n",
    "            ins_ball.append(ins_ball[parent]+[X[m-(nodes[parent][2])+1,1]])\n",
    "        cnt+=1\n",
    "        \n",
    "    ins_ball_list = []\n",
    "    cnt = 0\n",
    "    while cnt<len(nodes):\n",
    "        temp = nodes[cnt]\n",
    "        n_temp = temp[1]\n",
    "        m_temp = temp[2]\n",
    "        if(m_temp==0):\n",
    "            bin_arr = bin_space_gen(n_temp)\n",
    "            for i in range(len(bin_arr)):\n",
    "                ins_ball_list.append(ins_ball[cnt]+list(bin_arr[i]))\n",
    "        elif(n_temp==m_temp):\n",
    "            temp = []\n",
    "            for i in range(m_temp):\n",
    "                temp.append(X[m-m_temp+1+i,0])\n",
    "            ins_ball_list.append(ins_ball[cnt]+temp)\n",
    "        cnt+=1 \n",
    "\n",
    "    func = partial(ins_ball_eval_fun,sub_arr,card_Y,ins_ball_list, X)\n",
    "    if __name__ == '__main__':\n",
    "        with Pool(7) as p:\n",
    "            ins_ball_eval = list(tqdm.tqdm(p.imap(func, list(range(len(sub_arr)))),total = len(sub_arr)))\n",
    "\n",
    "    ent = []\n",
    "    ins = {}\n",
    "    for s in range(0,int(len(sub_arr))):\n",
    "        ins[s] = []\n",
    "        temp = 0 \n",
    "        for i in range(card_Y):\n",
    "            temp += wlogw(count(list_to_str(ins_ball_eval[s][i]),sub_arr[s]))\n",
    "            ins[s].append(list_to_str(ins_ball_eval[s][i]))\n",
    "        ent.append((sub_arr[s],round(temp,PRECISION)))\n",
    "    ent_sort = sorted(ent, key=lambda x: x[1])\n",
    "    \n",
    "    start=time.time()\n",
    "    mark = np.zeros((len(ent_sort),1))\n",
    "    C = []\n",
    "    for i in range(len(ent_sort)-1,-1,-1):\n",
    "        if mark[bin_dec(ent_sort[i][0])] == 0:\n",
    "            mark[bin_dec(ent_sort[i][0])] = 1\n",
    "            C.append(ent_sort[i])\n",
    "            temp_list = ins[bin_dec(ent_sort[i][0])]\n",
    "            for j in range(card_Y):\n",
    "                temp = temp_list[j]\n",
    "                for s in range(int(len(sub_arr))):\n",
    "                    if(mark[s]==0):\n",
    "                        if temp in ins[s]:\n",
    "                            mark[s] =1 \n",
    "    return C,time.time()-start"
   ]
  },
  {
   "cell_type": "code",
   "execution_count": null,
   "metadata": {},
   "outputs": [],
   "source": []
  },
  {
   "cell_type": "code",
   "execution_count": 26,
   "metadata": {},
   "outputs": [],
   "source": [
    "C={}"
   ]
  },
  {
   "cell_type": "code",
   "execution_count": 27,
   "metadata": {},
   "outputs": [
    {
     "name": "stderr",
     "output_type": "stream",
     "text": [
      "100%|███████████████████████████████████████████| 16/16 [00:01<00:00,  8.92it/s]\n",
      "100%|███████████████████████████████████████████| 32/32 [00:05<00:00,  5.50it/s]\n",
      "100%|███████████████████████████████████████████| 64/64 [00:24<00:00,  2.62it/s]\n",
      "100%|█████████████████████████████████████████| 128/128 [01:29<00:00,  1.42it/s]\n",
      "100%|█████████████████████████████████████████| 256/256 [04:39<00:00,  1.09s/it]\n",
      "100%|█████████████████████████████████████████| 512/512 [14:55<00:00,  1.75s/it]\n"
     ]
    }
   ],
   "source": [
    "k = 4\n",
    "for i in range(4,10):\n",
    "    C[i] = greedy_code(i+k,i)"
   ]
  },
  {
   "cell_type": "code",
   "execution_count": 33,
   "metadata": {},
   "outputs": [],
   "source": [
    "k = 4\n",
    "lenC = []\n",
    "redC = []\n",
    "th_redC = []\n",
    "\n",
    "for i in range(4,10):\n",
    "    lenC.append(len(C[i]))\n",
    "    redC.append((i-math.log(len(C[i]),2))/(i))\n",
    "    th_redC.append((k*math.log(i,2))/i)"
   ]
  },
  {
   "cell_type": "code",
   "execution_count": 34,
   "metadata": {},
   "outputs": [
    {
     "data": {
      "text/plain": [
       "[0.75, 0.8, 0.8333333333333334, 0.8571428571428571, 0.875, 0.8888888888888888]"
      ]
     },
     "execution_count": 34,
     "metadata": {},
     "output_type": "execute_result"
    }
   ],
   "source": [
    "redC"
   ]
  },
  {
   "cell_type": "code",
   "execution_count": 35,
   "metadata": {},
   "outputs": [
    {
     "data": {
      "text/plain": [
       "[2.0,\n",
       " 1.8575424759098897,\n",
       " 1.723308333814104,\n",
       " 1.6042028126043453,\n",
       " 1.5,\n",
       " 1.4088555561965834]"
      ]
     },
     "execution_count": 35,
     "metadata": {},
     "output_type": "execute_result"
    }
   ],
   "source": [
    "th_redC"
   ]
  },
  {
   "cell_type": "code",
   "execution_count": 39,
   "metadata": {},
   "outputs": [
    {
     "data": {
      "image/png": "[encoded data removed]",
      "text/plain": [
       "<Figure size 432x288 with 1 Axes>"
      ]
     },
     "metadata": {
      "needs_background": "light"
     },
     "output_type": "display_data"
    }
   ],
   "source": [
    "plt.plot(list(range(4,10)),redC,\"*-\")\n",
    "plt.plot(list(range(4,10)),th_redC,\"*-\")\n",
    "plt.legend([\"code\",\"theoretical\"])\n",
    "plt.xlabel(\"length\")\n",
    "plt.ylabel(\"redundancy\")\n",
    "plt.xlim(0,16)\n",
    "plt.ylim(0,16)\n",
    "# plt.rcParams['figure.figsize'] = [7,7]\n",
    "plt.show()"
   ]
  },
  {
   "cell_type": "code",
   "execution_count": 40,
   "metadata": {},
   "outputs": [],
   "source": [
    "# code4 = open(\"code4\", \"wb\")\n",
    "# pickle.dump(C,code4)\n",
    "# code4.close()"
   ]
  },
  {
   "cell_type": "code",
   "execution_count": 17,
   "metadata": {},
   "outputs": [],
   "source": [
    "# C = pd.read_pickle(\"code4\")"
   ]
  },
  {
   "cell_type": "code",
   "execution_count": null,
   "metadata": {},
   "outputs": [],
   "source": []
  },
  {
   "cell_type": "code",
   "execution_count": null,
   "metadata": {},
   "outputs": [],
   "source": [
    "2**(m-(n-m)*math.log(m,2))"
   ]
  },
  {
   "cell_type": "code",
   "execution_count": null,
   "metadata": {},
   "outputs": [],
   "source": [
    "# Single deletion: VT code, upper bound - kullkarni \n",
    "len(C), (2**(m))/((m)+1), ((2**(m))-2)/((m)-1)"
   ]
  },
  {
   "cell_type": "code",
   "execution_count": null,
   "metadata": {},
   "outputs": [],
   "source": [
    "def comp(s):\n",
    "    cs = \"\"\n",
    "    for i in range(len(s)):\n",
    "        cs += str((int(s[i])+1)%2)\n",
    "    return cs \n",
    "\n",
    "def ins_list(sub_seq):\n",
    "    ins = {}\n",
    "    ins2 = []\n",
    "    \n",
    "    for i in range(card_Y):\n",
    "        ins[i] = []\n",
    "        \n",
    "        for j in range(len(ins_ball_list[i])):\n",
    "            temp = ins_ball_list[i][j]\n",
    "            for k in range(1,m+1):\n",
    "                if(type(temp)!= str):\n",
    "                    temp = temp.subs(X[k,0],sub_seq[k-1])\n",
    "                    temp = temp.subs(X[k,1],(int(sub_seq[k-1])+1)%2)\n",
    "            ins[i].append(int(temp))\n",
    "\n",
    "        ins2.append(list_to_str(ins[i]))\n",
    "    return ins2        \n",
    "            \n",
    "def is_valid_code(code):   \n",
    "\n",
    "    for i in range(len(code)):\n",
    "        c1 = code[i]\n",
    "        print(c1)\n",
    "        temp_list1 = ins_list(c1[0])\n",
    "        for j in range(i+1,len(code)):\n",
    "            c2 = code[j]\n",
    "            temp_list2 = ins_list(c2[0])\n",
    "            for k in range(card_Y):\n",
    "                temp = temp_list2[k]\n",
    "                if temp in temp_list1:\n",
    "                    print(c1,c2, \"NOT VALID\")\n",
    "                    return "
   ]
  },
  {
   "cell_type": "code",
   "execution_count": null,
   "metadata": {},
   "outputs": [],
   "source": [
    "is_valid_code(C)"
   ]
  },
  {
   "cell_type": "code",
   "execution_count": null,
   "metadata": {},
   "outputs": [],
   "source": []
  }
 ],
 "metadata": {
  "celltoolbar": "Raw Cell Format",
  "colab": {
   "name": "Copy of Characterizing Uncertainty Set - desired ordering.ipynb",
   "provenance": []
  },
  "kernelspec": {
   "display_name": "Python 3 (ipykernel)",
   "language": "python",
   "name": "python3"
  },
  "language_info": {
   "codemirror_mode": {
    "name": "ipython",
    "version": 3
   },
   "file_extension": ".py",
   "mimetype": "text/x-python",
   "name": "python",
   "nbconvert_exporter": "python",
   "pygments_lexer": "ipython3",
   "version": "3.10.4"
  }
 },
 "nbformat": 4,
 "nbformat_minor": 1
}
